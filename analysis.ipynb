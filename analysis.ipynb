{
 "cells": [
  {
   "cell_type": "markdown",
   "id": "c3339d9c",
   "metadata": {},
   "source": [
    "## 1. Import"
   ]
  },
  {
   "cell_type": "code",
   "execution_count": 1128,
   "id": "2fe4f56e",
   "metadata": {},
   "outputs": [],
   "source": [
    "import pandas as pd\n",
    "import matplotlib.pyplot as plt\n",
    "import seaborn as sns\n",
    "from sklearn.ensemble import RandomForestClassifier\n"
   ]
  },
  {
   "cell_type": "code",
   "execution_count": 1129,
   "id": "5f159239",
   "metadata": {},
   "outputs": [
    {
     "data": {
      "application/vnd.microsoft.datawrangler.viewer.v0+json": {
       "columns": [
        {
         "name": "index",
         "rawType": "int64",
         "type": "integer"
        },
        {
         "name": "event_name",
         "rawType": "object",
         "type": "string"
        },
        {
         "name": "r_fighter",
         "rawType": "object",
         "type": "string"
        },
        {
         "name": "b_fighter",
         "rawType": "object",
         "type": "string"
        },
        {
         "name": "winner",
         "rawType": "object",
         "type": "string"
        },
        {
         "name": "weight_class",
         "rawType": "object",
         "type": "string"
        },
        {
         "name": "is_title_bout",
         "rawType": "int64",
         "type": "integer"
        },
        {
         "name": "gender",
         "rawType": "object",
         "type": "string"
        },
        {
         "name": "method",
         "rawType": "object",
         "type": "string"
        },
        {
         "name": "finish_round",
         "rawType": "int64",
         "type": "integer"
        },
        {
         "name": "total_rounds",
         "rawType": "float64",
         "type": "float"
        },
        {
         "name": "time_sec",
         "rawType": "int64",
         "type": "integer"
        },
        {
         "name": "referee",
         "rawType": "object",
         "type": "string"
        },
        {
         "name": "r_kd",
         "rawType": "int64",
         "type": "integer"
        },
        {
         "name": "r_sig_str",
         "rawType": "int64",
         "type": "integer"
        },
        {
         "name": "r_sig_str_att",
         "rawType": "int64",
         "type": "integer"
        },
        {
         "name": "r_sig_str_acc",
         "rawType": "float64",
         "type": "float"
        },
        {
         "name": "r_str",
         "rawType": "int64",
         "type": "integer"
        },
        {
         "name": "r_str_att",
         "rawType": "int64",
         "type": "integer"
        },
        {
         "name": "r_str_acc",
         "rawType": "float64",
         "type": "float"
        },
        {
         "name": "r_td",
         "rawType": "int64",
         "type": "integer"
        },
        {
         "name": "r_td_att",
         "rawType": "int64",
         "type": "integer"
        },
        {
         "name": "r_td_acc",
         "rawType": "float64",
         "type": "float"
        },
        {
         "name": "r_sub_att",
         "rawType": "int64",
         "type": "integer"
        },
        {
         "name": "r_rev",
         "rawType": "int64",
         "type": "integer"
        },
        {
         "name": "r_ctrl_sec",
         "rawType": "int64",
         "type": "integer"
        },
        {
         "name": "r_wins_total",
         "rawType": "int64",
         "type": "integer"
        },
        {
         "name": "r_losses_total",
         "rawType": "int64",
         "type": "integer"
        },
        {
         "name": "r_age",
         "rawType": "float64",
         "type": "float"
        },
        {
         "name": "r_height",
         "rawType": "float64",
         "type": "float"
        },
        {
         "name": "r_weight",
         "rawType": "float64",
         "type": "float"
        },
        {
         "name": "r_reach",
         "rawType": "float64",
         "type": "float"
        },
        {
         "name": "r_stance",
         "rawType": "object",
         "type": "string"
        },
        {
         "name": "r_SLpM_total",
         "rawType": "float64",
         "type": "float"
        },
        {
         "name": "r_SApM_total",
         "rawType": "float64",
         "type": "float"
        },
        {
         "name": "r_sig_str_acc_total",
         "rawType": "float64",
         "type": "float"
        },
        {
         "name": "r_td_acc_total",
         "rawType": "float64",
         "type": "float"
        },
        {
         "name": "r_str_def_total",
         "rawType": "float64",
         "type": "float"
        },
        {
         "name": "r_td_def_total",
         "rawType": "float64",
         "type": "float"
        },
        {
         "name": "r_sub_avg",
         "rawType": "float64",
         "type": "float"
        },
        {
         "name": "r_td_avg",
         "rawType": "float64",
         "type": "float"
        },
        {
         "name": "b_kd",
         "rawType": "int64",
         "type": "integer"
        },
        {
         "name": "b_sig_str",
         "rawType": "int64",
         "type": "integer"
        },
        {
         "name": "b_sig_str_att",
         "rawType": "int64",
         "type": "integer"
        },
        {
         "name": "b_sig_str_acc",
         "rawType": "float64",
         "type": "float"
        },
        {
         "name": "b_str",
         "rawType": "int64",
         "type": "integer"
        },
        {
         "name": "b_str_att",
         "rawType": "int64",
         "type": "integer"
        },
        {
         "name": "b_str_acc",
         "rawType": "float64",
         "type": "float"
        },
        {
         "name": "b_td",
         "rawType": "int64",
         "type": "integer"
        },
        {
         "name": "b_td_att",
         "rawType": "int64",
         "type": "integer"
        },
        {
         "name": "b_td_acc",
         "rawType": "float64",
         "type": "float"
        },
        {
         "name": "b_sub_att",
         "rawType": "int64",
         "type": "integer"
        },
        {
         "name": "b_rev",
         "rawType": "int64",
         "type": "integer"
        },
        {
         "name": "b_ctrl_sec",
         "rawType": "int64",
         "type": "integer"
        },
        {
         "name": "b_wins_total",
         "rawType": "int64",
         "type": "integer"
        },
        {
         "name": "b_losses_total",
         "rawType": "int64",
         "type": "integer"
        },
        {
         "name": "b_age",
         "rawType": "float64",
         "type": "float"
        },
        {
         "name": "b_height",
         "rawType": "float64",
         "type": "float"
        },
        {
         "name": "b_weight",
         "rawType": "float64",
         "type": "float"
        },
        {
         "name": "b_reach",
         "rawType": "float64",
         "type": "float"
        },
        {
         "name": "b_stance",
         "rawType": "object",
         "type": "string"
        },
        {
         "name": "b_SLpM_total",
         "rawType": "float64",
         "type": "float"
        },
        {
         "name": "b_SApM_total",
         "rawType": "float64",
         "type": "float"
        },
        {
         "name": "b_sig_str_acc_total",
         "rawType": "float64",
         "type": "float"
        },
        {
         "name": "b_td_acc_total",
         "rawType": "float64",
         "type": "float"
        },
        {
         "name": "b_str_def_total",
         "rawType": "float64",
         "type": "float"
        },
        {
         "name": "b_td_def_total",
         "rawType": "float64",
         "type": "float"
        },
        {
         "name": "b_sub_avg",
         "rawType": "float64",
         "type": "float"
        },
        {
         "name": "b_td_avg",
         "rawType": "float64",
         "type": "float"
        },
        {
         "name": "kd_diff",
         "rawType": "int64",
         "type": "integer"
        },
        {
         "name": "sig_str_diff",
         "rawType": "int64",
         "type": "integer"
        },
        {
         "name": "sig_str_att_diff",
         "rawType": "int64",
         "type": "integer"
        },
        {
         "name": "sig_str_acc_diff",
         "rawType": "float64",
         "type": "float"
        },
        {
         "name": "str_diff",
         "rawType": "int64",
         "type": "integer"
        },
        {
         "name": "str_att_diff",
         "rawType": "int64",
         "type": "integer"
        },
        {
         "name": "str_acc_diff",
         "rawType": "float64",
         "type": "float"
        },
        {
         "name": "td_diff",
         "rawType": "int64",
         "type": "integer"
        },
        {
         "name": "td_att_diff",
         "rawType": "int64",
         "type": "integer"
        },
        {
         "name": "td_acc_diff",
         "rawType": "float64",
         "type": "float"
        },
        {
         "name": "sub_att_diff",
         "rawType": "int64",
         "type": "integer"
        },
        {
         "name": "rev_diff",
         "rawType": "int64",
         "type": "integer"
        },
        {
         "name": "ctrl_sec_diff",
         "rawType": "int64",
         "type": "integer"
        },
        {
         "name": "wins_total_diff",
         "rawType": "int64",
         "type": "integer"
        },
        {
         "name": "losses_total_diff",
         "rawType": "int64",
         "type": "integer"
        },
        {
         "name": "age_diff",
         "rawType": "float64",
         "type": "float"
        },
        {
         "name": "height_diff",
         "rawType": "float64",
         "type": "float"
        },
        {
         "name": "weight_diff",
         "rawType": "float64",
         "type": "float"
        },
        {
         "name": "reach_diff",
         "rawType": "float64",
         "type": "float"
        },
        {
         "name": "SLpM_total_diff",
         "rawType": "float64",
         "type": "float"
        },
        {
         "name": "SApM_total_diff",
         "rawType": "float64",
         "type": "float"
        },
        {
         "name": "sig_str_acc_total_diff",
         "rawType": "float64",
         "type": "float"
        },
        {
         "name": "td_acc_total_diff",
         "rawType": "float64",
         "type": "float"
        },
        {
         "name": "str_def_total_diff",
         "rawType": "float64",
         "type": "float"
        },
        {
         "name": "td_def_total_diff",
         "rawType": "float64",
         "type": "float"
        },
        {
         "name": "sub_avg_diff",
         "rawType": "float64",
         "type": "float"
        },
        {
         "name": "td_avg_diff",
         "rawType": "float64",
         "type": "float"
        }
       ],
       "ref": "18089aa2-4b65-48cf-b0cc-ed5e2d95ebd3",
       "rows": [
        [
         "0",
         "UFC Fight Night: Ribas vs. Namajunas",
         "Amanda Ribas",
         "Rose Namajunas",
         "Blue",
         "Women's Flyweight",
         "0",
         "Women",
         "Decision - Unanimous",
         "5",
         "5.0",
         "300",
         "Jason Herzog",
         "0",
         "83",
         "270",
         "0.3",
         "137",
         "342",
         "0.4",
         "4",
         "8",
         "0.5",
         "0",
         "0",
         "98",
         "12",
         "5",
         "30.0",
         "160.02",
         "56.7",
         "167.64",
         "Orthodox",
         "4.63",
         "3.4",
         "0.4",
         "0.51",
         "0.61",
         "0.85",
         "0.7",
         "2.07",
         "0",
         "93",
         "188",
         "0.49",
         "169",
         "281",
         "0.6",
         "1",
         "3",
         "0.33",
         "0",
         "1",
         "419",
         "13",
         "6",
         "31.0",
         "165.1",
         "56.7",
         "165.1",
         "Orthodox",
         "3.69",
         "3.51",
         "0.41",
         "0.47",
         "0.63",
         "0.59",
         "0.5",
         "1.38",
         "0",
         "-10",
         "82",
         "-0.19",
         "-32",
         "61",
         "-0.1999999999999999",
         "3",
         "5",
         "0.1699999999999999",
         "0",
         "-1",
         "-321",
         "-1",
         "-1",
         "-1.0",
         "-5.079999999999984",
         "0.0",
         "2.539999999999992",
         "0.94",
         "-0.1099999999999998",
         "-0.0099999999999999",
         "0.04",
         "-0.02",
         "0.26",
         "0.1999999999999999",
         "0.69"
        ],
        [
         "1",
         "UFC Fight Night: Ribas vs. Namajunas",
         "Karl Williams",
         "Justin Tafa",
         "Red",
         "Heavyweight",
         "0",
         "Men",
         "Decision - Unanimous",
         "3",
         "3.0",
         "300",
         "Herb Dean",
         "0",
         "40",
         "61",
         "0.65",
         "123",
         "176",
         "0.7",
         "7",
         "12",
         "0.58",
         "1",
         "0",
         "631",
         "10",
         "1",
         "34.0",
         "190.5",
         "106.59",
         "200.66",
         "Orthodox",
         "2.87",
         "1.7",
         "0.52",
         "0.5",
         "0.6",
         "1.0",
         "0.2",
         "4.75",
         "0",
         "21",
         "43",
         "0.48",
         "27",
         "50",
         "0.54",
         "0",
         "0",
         "0.0",
         "0",
         "0",
         "0",
         "7",
         "4",
         "30.0",
         "182.88",
         "119.75",
         "187.96",
         "Southpaw",
         "4.09",
         "5.02",
         "0.54",
         "0.0",
         "0.47",
         "0.5",
         "0.0",
         "0.0",
         "0",
         "19",
         "18",
         "0.17",
         "96",
         "126",
         "0.1599999999999999",
         "7",
         "12",
         "0.58",
         "1",
         "0",
         "631",
         "3",
         "-3",
         "4.0",
         "7.6200000000000045",
         "-13.159999999999997",
         "12.699999999999989",
         "-1.2199999999999998",
         "-3.3199999999999994",
         "-0.02",
         "0.5",
         "0.13",
         "0.5",
         "0.2",
         "4.75"
        ],
        [
         "2",
         "UFC Fight Night: Ribas vs. Namajunas",
         "Edmen Shahbazyan",
         "AJ Dobson",
         "Red",
         "Middleweight",
         "0",
         "Men",
         "KO/TKO",
         "1",
         "3.0",
         "273",
         "Mark Smith",
         "1",
         "27",
         "43",
         "0.62",
         "31",
         "51",
         "0.61",
         "1",
         "3",
         "0.33",
         "0",
         "0",
         "49",
         "13",
         "4",
         "26.0",
         "187.96",
         "83.91",
         "190.5",
         "Orthodox",
         "3.6",
         "4.09",
         "0.52",
         "0.38",
         "0.45",
         "0.63",
         "0.6",
         "2.24",
         "0",
         "15",
         "46",
         "0.32",
         "20",
         "54",
         "0.37",
         "0",
         "0",
         "0.0",
         "0",
         "1",
         "75",
         "7",
         "3",
         "32.0",
         "185.42",
         "83.91",
         "193.04",
         "Orthodox",
         "4.29",
         "5.31",
         "0.46",
         "0.75",
         "0.46",
         "0.65",
         "0.3",
         "1.67",
         "1",
         "12",
         "-3",
         "0.3",
         "11",
         "-3",
         "0.24",
         "1",
         "3",
         "0.33",
         "0",
         "-1",
         "-26",
         "6",
         "1",
         "-6.0",
         "2.5400000000000205",
         "0.0",
         "-2.539999999999992",
         "-0.69",
         "-1.2199999999999998",
         "0.06",
         "-0.37",
         "-0.01",
         "-0.02",
         "0.3",
         "0.5700000000000003"
        ],
        [
         "3",
         "UFC Fight Night: Ribas vs. Namajunas",
         "Payton Talbott",
         "Cameron Saaiman",
         "Red",
         "Bantamweight",
         "0",
         "Men",
         "KO/TKO",
         "2",
         "3.0",
         "21",
         "Chris Tognoni",
         "1",
         "79",
         "129",
         "0.61",
         "83",
         "135",
         "0.61",
         "0",
         "1",
         "0.0",
         "0",
         "0",
         "30",
         "8",
         "0",
         "25.0",
         "177.8",
         "61.23",
         "177.8",
         "Switch",
         "8.05",
         "3.58",
         "0.54",
         "0.0",
         "0.51",
         "0.9",
         "0.5",
         "0.0",
         "0",
         "31",
         "64",
         "0.48",
         "33",
         "66",
         "0.5",
         "0",
         "3",
         "0.0",
         "0",
         "0",
         "0",
         "9",
         "2",
         "23.0",
         "172.72",
         "61.23",
         "170.18",
         "Southpaw",
         "5.32",
         "4.18",
         "0.46",
         "0.28",
         "0.51",
         "0.47",
         "0.7",
         "0.91",
         "1",
         "48",
         "65",
         "0.13",
         "50",
         "69",
         "0.1099999999999999",
         "0",
         "-2",
         "0.0",
         "0",
         "0",
         "30",
         "-1",
         "-2",
         "2.0",
         "5.0800000000000125",
         "0.0",
         "7.6200000000000045",
         "2.7300000000000004",
         "-0.5999999999999996",
         "0.08",
         "-0.28",
         "0.0",
         "0.43",
         "-0.1999999999999999",
         "-0.91"
        ],
        [
         "4",
         "UFC Fight Night: Ribas vs. Namajunas",
         "Billy Quarantillo",
         "Youssef Zalal",
         "Blue",
         "Featherweight",
         "0",
         "Men",
         "Submission",
         "2",
         "3.0",
         "110",
         "Herb Dean",
         "0",
         "10",
         "50",
         "0.2",
         "26",
         "74",
         "0.35",
         "0",
         "0",
         "0.0",
         "0",
         "0",
         "21",
         "18",
         "6",
         "35.0",
         "177.8",
         "65.77",
         "177.8",
         "Orthodox",
         "7.36",
         "5.57",
         "0.56",
         "0.23",
         "0.43",
         "0.61",
         "1.1",
         "1.24",
         "0",
         "33",
         "56",
         "0.58",
         "37",
         "62",
         "0.6",
         "2",
         "2",
         "1.0",
         "2",
         "0",
         "175",
         "14",
         "5",
         "27.0",
         "177.8",
         "65.77",
         "182.88",
         "Switch",
         "2.88",
         "1.73",
         "0.49",
         "0.34",
         "0.65",
         "0.6",
         "1.3",
         "2.28",
         "0",
         "-23",
         "-6",
         "-0.3799999999999999",
         "-11",
         "12",
         "-0.25",
         "-2",
         "-2",
         "-1.0",
         "-2",
         "0",
         "-154",
         "4",
         "1",
         "8.0",
         "0.0",
         "0.0",
         "-5.079999999999984",
         "4.48",
         "3.84",
         "0.07",
         "-0.11",
         "-0.22",
         "0.01",
         "-0.1999999999999999",
         "-1.0399999999999998"
        ]
       ],
       "shape": {
        "columns": 95,
        "rows": 5
       }
      },
      "text/html": [
       "<div>\n",
       "<style scoped>\n",
       "    .dataframe tbody tr th:only-of-type {\n",
       "        vertical-align: middle;\n",
       "    }\n",
       "\n",
       "    .dataframe tbody tr th {\n",
       "        vertical-align: top;\n",
       "    }\n",
       "\n",
       "    .dataframe thead th {\n",
       "        text-align: right;\n",
       "    }\n",
       "</style>\n",
       "<table border=\"1\" class=\"dataframe\">\n",
       "  <thead>\n",
       "    <tr style=\"text-align: right;\">\n",
       "      <th></th>\n",
       "      <th>event_name</th>\n",
       "      <th>r_fighter</th>\n",
       "      <th>b_fighter</th>\n",
       "      <th>winner</th>\n",
       "      <th>weight_class</th>\n",
       "      <th>is_title_bout</th>\n",
       "      <th>gender</th>\n",
       "      <th>method</th>\n",
       "      <th>finish_round</th>\n",
       "      <th>total_rounds</th>\n",
       "      <th>...</th>\n",
       "      <th>weight_diff</th>\n",
       "      <th>reach_diff</th>\n",
       "      <th>SLpM_total_diff</th>\n",
       "      <th>SApM_total_diff</th>\n",
       "      <th>sig_str_acc_total_diff</th>\n",
       "      <th>td_acc_total_diff</th>\n",
       "      <th>str_def_total_diff</th>\n",
       "      <th>td_def_total_diff</th>\n",
       "      <th>sub_avg_diff</th>\n",
       "      <th>td_avg_diff</th>\n",
       "    </tr>\n",
       "  </thead>\n",
       "  <tbody>\n",
       "    <tr>\n",
       "      <th>0</th>\n",
       "      <td>UFC Fight Night: Ribas vs. Namajunas</td>\n",
       "      <td>Amanda Ribas</td>\n",
       "      <td>Rose Namajunas</td>\n",
       "      <td>Blue</td>\n",
       "      <td>Women's Flyweight</td>\n",
       "      <td>0</td>\n",
       "      <td>Women</td>\n",
       "      <td>Decision - Unanimous</td>\n",
       "      <td>5</td>\n",
       "      <td>5.0</td>\n",
       "      <td>...</td>\n",
       "      <td>0.00</td>\n",
       "      <td>2.54</td>\n",
       "      <td>0.94</td>\n",
       "      <td>-0.11</td>\n",
       "      <td>-0.01</td>\n",
       "      <td>0.04</td>\n",
       "      <td>-0.02</td>\n",
       "      <td>0.26</td>\n",
       "      <td>0.2</td>\n",
       "      <td>0.69</td>\n",
       "    </tr>\n",
       "    <tr>\n",
       "      <th>1</th>\n",
       "      <td>UFC Fight Night: Ribas vs. Namajunas</td>\n",
       "      <td>Karl Williams</td>\n",
       "      <td>Justin Tafa</td>\n",
       "      <td>Red</td>\n",
       "      <td>Heavyweight</td>\n",
       "      <td>0</td>\n",
       "      <td>Men</td>\n",
       "      <td>Decision - Unanimous</td>\n",
       "      <td>3</td>\n",
       "      <td>3.0</td>\n",
       "      <td>...</td>\n",
       "      <td>-13.16</td>\n",
       "      <td>12.70</td>\n",
       "      <td>-1.22</td>\n",
       "      <td>-3.32</td>\n",
       "      <td>-0.02</td>\n",
       "      <td>0.50</td>\n",
       "      <td>0.13</td>\n",
       "      <td>0.50</td>\n",
       "      <td>0.2</td>\n",
       "      <td>4.75</td>\n",
       "    </tr>\n",
       "    <tr>\n",
       "      <th>2</th>\n",
       "      <td>UFC Fight Night: Ribas vs. Namajunas</td>\n",
       "      <td>Edmen Shahbazyan</td>\n",
       "      <td>AJ Dobson</td>\n",
       "      <td>Red</td>\n",
       "      <td>Middleweight</td>\n",
       "      <td>0</td>\n",
       "      <td>Men</td>\n",
       "      <td>KO/TKO</td>\n",
       "      <td>1</td>\n",
       "      <td>3.0</td>\n",
       "      <td>...</td>\n",
       "      <td>0.00</td>\n",
       "      <td>-2.54</td>\n",
       "      <td>-0.69</td>\n",
       "      <td>-1.22</td>\n",
       "      <td>0.06</td>\n",
       "      <td>-0.37</td>\n",
       "      <td>-0.01</td>\n",
       "      <td>-0.02</td>\n",
       "      <td>0.3</td>\n",
       "      <td>0.57</td>\n",
       "    </tr>\n",
       "    <tr>\n",
       "      <th>3</th>\n",
       "      <td>UFC Fight Night: Ribas vs. Namajunas</td>\n",
       "      <td>Payton Talbott</td>\n",
       "      <td>Cameron Saaiman</td>\n",
       "      <td>Red</td>\n",
       "      <td>Bantamweight</td>\n",
       "      <td>0</td>\n",
       "      <td>Men</td>\n",
       "      <td>KO/TKO</td>\n",
       "      <td>2</td>\n",
       "      <td>3.0</td>\n",
       "      <td>...</td>\n",
       "      <td>0.00</td>\n",
       "      <td>7.62</td>\n",
       "      <td>2.73</td>\n",
       "      <td>-0.60</td>\n",
       "      <td>0.08</td>\n",
       "      <td>-0.28</td>\n",
       "      <td>0.00</td>\n",
       "      <td>0.43</td>\n",
       "      <td>-0.2</td>\n",
       "      <td>-0.91</td>\n",
       "    </tr>\n",
       "    <tr>\n",
       "      <th>4</th>\n",
       "      <td>UFC Fight Night: Ribas vs. Namajunas</td>\n",
       "      <td>Billy Quarantillo</td>\n",
       "      <td>Youssef Zalal</td>\n",
       "      <td>Blue</td>\n",
       "      <td>Featherweight</td>\n",
       "      <td>0</td>\n",
       "      <td>Men</td>\n",
       "      <td>Submission</td>\n",
       "      <td>2</td>\n",
       "      <td>3.0</td>\n",
       "      <td>...</td>\n",
       "      <td>0.00</td>\n",
       "      <td>-5.08</td>\n",
       "      <td>4.48</td>\n",
       "      <td>3.84</td>\n",
       "      <td>0.07</td>\n",
       "      <td>-0.11</td>\n",
       "      <td>-0.22</td>\n",
       "      <td>0.01</td>\n",
       "      <td>-0.2</td>\n",
       "      <td>-1.04</td>\n",
       "    </tr>\n",
       "  </tbody>\n",
       "</table>\n",
       "<p>5 rows × 95 columns</p>\n",
       "</div>"
      ],
      "text/plain": [
       "                             event_name          r_fighter        b_fighter  \\\n",
       "0  UFC Fight Night: Ribas vs. Namajunas       Amanda Ribas   Rose Namajunas   \n",
       "1  UFC Fight Night: Ribas vs. Namajunas      Karl Williams      Justin Tafa   \n",
       "2  UFC Fight Night: Ribas vs. Namajunas   Edmen Shahbazyan        AJ Dobson   \n",
       "3  UFC Fight Night: Ribas vs. Namajunas     Payton Talbott  Cameron Saaiman   \n",
       "4  UFC Fight Night: Ribas vs. Namajunas  Billy Quarantillo    Youssef Zalal   \n",
       "\n",
       "  winner       weight_class  is_title_bout gender                method  \\\n",
       "0   Blue  Women's Flyweight              0  Women  Decision - Unanimous   \n",
       "1    Red        Heavyweight              0    Men  Decision - Unanimous   \n",
       "2    Red       Middleweight              0    Men                KO/TKO   \n",
       "3    Red       Bantamweight              0    Men                KO/TKO   \n",
       "4   Blue      Featherweight              0    Men            Submission   \n",
       "\n",
       "   finish_round  total_rounds  ...  weight_diff reach_diff  SLpM_total_diff  \\\n",
       "0             5           5.0  ...         0.00       2.54             0.94   \n",
       "1             3           3.0  ...       -13.16      12.70            -1.22   \n",
       "2             1           3.0  ...         0.00      -2.54            -0.69   \n",
       "3             2           3.0  ...         0.00       7.62             2.73   \n",
       "4             2           3.0  ...         0.00      -5.08             4.48   \n",
       "\n",
       "   SApM_total_diff  sig_str_acc_total_diff  td_acc_total_diff  \\\n",
       "0            -0.11                   -0.01               0.04   \n",
       "1            -3.32                   -0.02               0.50   \n",
       "2            -1.22                    0.06              -0.37   \n",
       "3            -0.60                    0.08              -0.28   \n",
       "4             3.84                    0.07              -0.11   \n",
       "\n",
       "   str_def_total_diff  td_def_total_diff  sub_avg_diff  td_avg_diff  \n",
       "0               -0.02               0.26           0.2         0.69  \n",
       "1                0.13               0.50           0.2         4.75  \n",
       "2               -0.01              -0.02           0.3         0.57  \n",
       "3                0.00               0.43          -0.2        -0.91  \n",
       "4               -0.22               0.01          -0.2        -1.04  \n",
       "\n",
       "[5 rows x 95 columns]"
      ]
     },
     "execution_count": 1129,
     "metadata": {},
     "output_type": "execute_result"
    }
   ],
   "source": [
    "all_fights = pd.read_csv('UFC dataset/Large set/large_dataset.csv')\n",
    "all_fights.head()"
   ]
  },
  {
   "cell_type": "code",
   "execution_count": 1130,
   "id": "0ba95f21",
   "metadata": {},
   "outputs": [
    {
     "data": {
      "text/plain": [
       "(7439, 95)"
      ]
     },
     "execution_count": 1130,
     "metadata": {},
     "output_type": "execute_result"
    }
   ],
   "source": [
    "all_fights.shape"
   ]
  },
  {
   "cell_type": "code",
   "execution_count": 1131,
   "id": "276803d4",
   "metadata": {},
   "outputs": [
    {
     "data": {
      "text/plain": [
       "Index(['event_name', 'r_fighter', 'b_fighter', 'winner', 'weight_class',\n",
       "       'is_title_bout', 'gender', 'method', 'finish_round', 'total_rounds',\n",
       "       'time_sec', 'referee', 'r_kd', 'r_sig_str', 'r_sig_str_att',\n",
       "       'r_sig_str_acc', 'r_str', 'r_str_att', 'r_str_acc', 'r_td', 'r_td_att',\n",
       "       'r_td_acc', 'r_sub_att', 'r_rev', 'r_ctrl_sec', 'r_wins_total',\n",
       "       'r_losses_total', 'r_age', 'r_height', 'r_weight', 'r_reach',\n",
       "       'r_stance', 'r_SLpM_total', 'r_SApM_total', 'r_sig_str_acc_total',\n",
       "       'r_td_acc_total', 'r_str_def_total', 'r_td_def_total', 'r_sub_avg',\n",
       "       'r_td_avg', 'b_kd', 'b_sig_str', 'b_sig_str_att', 'b_sig_str_acc',\n",
       "       'b_str', 'b_str_att', 'b_str_acc', 'b_td', 'b_td_att', 'b_td_acc',\n",
       "       'b_sub_att', 'b_rev', 'b_ctrl_sec', 'b_wins_total', 'b_losses_total',\n",
       "       'b_age', 'b_height', 'b_weight', 'b_reach', 'b_stance', 'b_SLpM_total',\n",
       "       'b_SApM_total', 'b_sig_str_acc_total', 'b_td_acc_total',\n",
       "       'b_str_def_total', 'b_td_def_total', 'b_sub_avg', 'b_td_avg', 'kd_diff',\n",
       "       'sig_str_diff', 'sig_str_att_diff', 'sig_str_acc_diff', 'str_diff',\n",
       "       'str_att_diff', 'str_acc_diff', 'td_diff', 'td_att_diff', 'td_acc_diff',\n",
       "       'sub_att_diff', 'rev_diff', 'ctrl_sec_diff', 'wins_total_diff',\n",
       "       'losses_total_diff', 'age_diff', 'height_diff', 'weight_diff',\n",
       "       'reach_diff', 'SLpM_total_diff', 'SApM_total_diff',\n",
       "       'sig_str_acc_total_diff', 'td_acc_total_diff', 'str_def_total_diff',\n",
       "       'td_def_total_diff', 'sub_avg_diff', 'td_avg_diff'],\n",
       "      dtype='object')"
      ]
     },
     "execution_count": 1131,
     "metadata": {},
     "output_type": "execute_result"
    }
   ],
   "source": [
    "all_fights.columns"
   ]
  },
  {
   "cell_type": "code",
   "execution_count": 1132,
   "id": "47833c92",
   "metadata": {},
   "outputs": [
    {
     "data": {
      "application/vnd.microsoft.datawrangler.viewer.v0+json": {
       "columns": [
        {
         "name": "index",
         "rawType": "object",
         "type": "string"
        },
        {
         "name": "0",
         "rawType": "object",
         "type": "unknown"
        }
       ],
       "ref": "cb573167-c0ea-49b1-9eaa-7d12512ce73f",
       "rows": [
        [
         "event_name",
         "object"
        ],
        [
         "r_fighter",
         "object"
        ],
        [
         "b_fighter",
         "object"
        ],
        [
         "winner",
         "object"
        ],
        [
         "weight_class",
         "object"
        ],
        [
         "is_title_bout",
         "int64"
        ],
        [
         "gender",
         "object"
        ],
        [
         "method",
         "object"
        ],
        [
         "finish_round",
         "int64"
        ],
        [
         "total_rounds",
         "float64"
        ],
        [
         "time_sec",
         "int64"
        ],
        [
         "referee",
         "object"
        ],
        [
         "r_kd",
         "int64"
        ],
        [
         "r_sig_str",
         "int64"
        ],
        [
         "r_sig_str_att",
         "int64"
        ],
        [
         "r_sig_str_acc",
         "float64"
        ],
        [
         "r_str",
         "int64"
        ],
        [
         "r_str_att",
         "int64"
        ],
        [
         "r_str_acc",
         "float64"
        ],
        [
         "r_td",
         "int64"
        ],
        [
         "r_td_att",
         "int64"
        ],
        [
         "r_td_acc",
         "float64"
        ],
        [
         "r_sub_att",
         "int64"
        ],
        [
         "r_rev",
         "int64"
        ],
        [
         "r_ctrl_sec",
         "int64"
        ],
        [
         "r_wins_total",
         "int64"
        ],
        [
         "r_losses_total",
         "int64"
        ],
        [
         "r_age",
         "float64"
        ],
        [
         "r_height",
         "float64"
        ],
        [
         "r_weight",
         "float64"
        ],
        [
         "r_reach",
         "float64"
        ],
        [
         "r_stance",
         "object"
        ],
        [
         "r_SLpM_total",
         "float64"
        ],
        [
         "r_SApM_total",
         "float64"
        ],
        [
         "r_sig_str_acc_total",
         "float64"
        ],
        [
         "r_td_acc_total",
         "float64"
        ],
        [
         "r_str_def_total",
         "float64"
        ],
        [
         "r_td_def_total",
         "float64"
        ],
        [
         "r_sub_avg",
         "float64"
        ],
        [
         "r_td_avg",
         "float64"
        ],
        [
         "b_kd",
         "int64"
        ],
        [
         "b_sig_str",
         "int64"
        ],
        [
         "b_sig_str_att",
         "int64"
        ],
        [
         "b_sig_str_acc",
         "float64"
        ],
        [
         "b_str",
         "int64"
        ],
        [
         "b_str_att",
         "int64"
        ],
        [
         "b_str_acc",
         "float64"
        ],
        [
         "b_td",
         "int64"
        ],
        [
         "b_td_att",
         "int64"
        ],
        [
         "b_td_acc",
         "float64"
        ]
       ],
       "shape": {
        "columns": 1,
        "rows": 95
       }
      },
      "text/plain": [
       "event_name             object\n",
       "r_fighter              object\n",
       "b_fighter              object\n",
       "winner                 object\n",
       "weight_class           object\n",
       "                       ...   \n",
       "td_acc_total_diff     float64\n",
       "str_def_total_diff    float64\n",
       "td_def_total_diff     float64\n",
       "sub_avg_diff          float64\n",
       "td_avg_diff           float64\n",
       "Length: 95, dtype: object"
      ]
     },
     "execution_count": 1132,
     "metadata": {},
     "output_type": "execute_result"
    }
   ],
   "source": [
    "all_fights.dtypes"
   ]
  },
  {
   "cell_type": "code",
   "execution_count": 1133,
   "id": "e638b797",
   "metadata": {},
   "outputs": [
    {
     "data": {
      "application/vnd.microsoft.datawrangler.viewer.v0+json": {
       "columns": [
        {
         "name": "index",
         "rawType": "object",
         "type": "string"
        },
        {
         "name": "is_title_bout",
         "rawType": "float64",
         "type": "float"
        },
        {
         "name": "finish_round",
         "rawType": "float64",
         "type": "float"
        },
        {
         "name": "total_rounds",
         "rawType": "float64",
         "type": "float"
        },
        {
         "name": "time_sec",
         "rawType": "float64",
         "type": "float"
        },
        {
         "name": "r_kd",
         "rawType": "float64",
         "type": "float"
        },
        {
         "name": "r_sig_str",
         "rawType": "float64",
         "type": "float"
        },
        {
         "name": "r_sig_str_att",
         "rawType": "float64",
         "type": "float"
        },
        {
         "name": "r_sig_str_acc",
         "rawType": "float64",
         "type": "float"
        },
        {
         "name": "r_str",
         "rawType": "float64",
         "type": "float"
        },
        {
         "name": "r_str_att",
         "rawType": "float64",
         "type": "float"
        },
        {
         "name": "r_str_acc",
         "rawType": "float64",
         "type": "float"
        },
        {
         "name": "r_td",
         "rawType": "float64",
         "type": "float"
        },
        {
         "name": "r_td_att",
         "rawType": "float64",
         "type": "float"
        },
        {
         "name": "r_td_acc",
         "rawType": "float64",
         "type": "float"
        },
        {
         "name": "r_sub_att",
         "rawType": "float64",
         "type": "float"
        },
        {
         "name": "r_rev",
         "rawType": "float64",
         "type": "float"
        },
        {
         "name": "r_ctrl_sec",
         "rawType": "float64",
         "type": "float"
        },
        {
         "name": "r_wins_total",
         "rawType": "float64",
         "type": "float"
        },
        {
         "name": "r_losses_total",
         "rawType": "float64",
         "type": "float"
        },
        {
         "name": "r_age",
         "rawType": "float64",
         "type": "float"
        },
        {
         "name": "r_height",
         "rawType": "float64",
         "type": "float"
        },
        {
         "name": "r_weight",
         "rawType": "float64",
         "type": "float"
        },
        {
         "name": "r_reach",
         "rawType": "float64",
         "type": "float"
        },
        {
         "name": "r_SLpM_total",
         "rawType": "float64",
         "type": "float"
        },
        {
         "name": "r_SApM_total",
         "rawType": "float64",
         "type": "float"
        },
        {
         "name": "r_sig_str_acc_total",
         "rawType": "float64",
         "type": "float"
        },
        {
         "name": "r_td_acc_total",
         "rawType": "float64",
         "type": "float"
        },
        {
         "name": "r_str_def_total",
         "rawType": "float64",
         "type": "float"
        },
        {
         "name": "r_td_def_total",
         "rawType": "float64",
         "type": "float"
        },
        {
         "name": "r_sub_avg",
         "rawType": "float64",
         "type": "float"
        },
        {
         "name": "r_td_avg",
         "rawType": "float64",
         "type": "float"
        },
        {
         "name": "b_kd",
         "rawType": "float64",
         "type": "float"
        },
        {
         "name": "b_sig_str",
         "rawType": "float64",
         "type": "float"
        },
        {
         "name": "b_sig_str_att",
         "rawType": "float64",
         "type": "float"
        },
        {
         "name": "b_sig_str_acc",
         "rawType": "float64",
         "type": "float"
        },
        {
         "name": "b_str",
         "rawType": "float64",
         "type": "float"
        },
        {
         "name": "b_str_att",
         "rawType": "float64",
         "type": "float"
        },
        {
         "name": "b_str_acc",
         "rawType": "float64",
         "type": "float"
        },
        {
         "name": "b_td",
         "rawType": "float64",
         "type": "float"
        },
        {
         "name": "b_td_att",
         "rawType": "float64",
         "type": "float"
        },
        {
         "name": "b_td_acc",
         "rawType": "float64",
         "type": "float"
        },
        {
         "name": "b_sub_att",
         "rawType": "float64",
         "type": "float"
        },
        {
         "name": "b_rev",
         "rawType": "float64",
         "type": "float"
        },
        {
         "name": "b_ctrl_sec",
         "rawType": "float64",
         "type": "float"
        },
        {
         "name": "b_wins_total",
         "rawType": "float64",
         "type": "float"
        },
        {
         "name": "b_losses_total",
         "rawType": "float64",
         "type": "float"
        },
        {
         "name": "b_age",
         "rawType": "float64",
         "type": "float"
        },
        {
         "name": "b_height",
         "rawType": "float64",
         "type": "float"
        },
        {
         "name": "b_weight",
         "rawType": "float64",
         "type": "float"
        },
        {
         "name": "b_reach",
         "rawType": "float64",
         "type": "float"
        },
        {
         "name": "b_SLpM_total",
         "rawType": "float64",
         "type": "float"
        },
        {
         "name": "b_SApM_total",
         "rawType": "float64",
         "type": "float"
        },
        {
         "name": "b_sig_str_acc_total",
         "rawType": "float64",
         "type": "float"
        },
        {
         "name": "b_td_acc_total",
         "rawType": "float64",
         "type": "float"
        },
        {
         "name": "b_str_def_total",
         "rawType": "float64",
         "type": "float"
        },
        {
         "name": "b_td_def_total",
         "rawType": "float64",
         "type": "float"
        },
        {
         "name": "b_sub_avg",
         "rawType": "float64",
         "type": "float"
        },
        {
         "name": "b_td_avg",
         "rawType": "float64",
         "type": "float"
        },
        {
         "name": "kd_diff",
         "rawType": "float64",
         "type": "float"
        },
        {
         "name": "sig_str_diff",
         "rawType": "float64",
         "type": "float"
        },
        {
         "name": "sig_str_att_diff",
         "rawType": "float64",
         "type": "float"
        },
        {
         "name": "sig_str_acc_diff",
         "rawType": "float64",
         "type": "float"
        },
        {
         "name": "str_diff",
         "rawType": "float64",
         "type": "float"
        },
        {
         "name": "str_att_diff",
         "rawType": "float64",
         "type": "float"
        },
        {
         "name": "str_acc_diff",
         "rawType": "float64",
         "type": "float"
        },
        {
         "name": "td_diff",
         "rawType": "float64",
         "type": "float"
        },
        {
         "name": "td_att_diff",
         "rawType": "float64",
         "type": "float"
        },
        {
         "name": "td_acc_diff",
         "rawType": "float64",
         "type": "float"
        },
        {
         "name": "sub_att_diff",
         "rawType": "float64",
         "type": "float"
        },
        {
         "name": "rev_diff",
         "rawType": "float64",
         "type": "float"
        },
        {
         "name": "ctrl_sec_diff",
         "rawType": "float64",
         "type": "float"
        },
        {
         "name": "wins_total_diff",
         "rawType": "float64",
         "type": "float"
        },
        {
         "name": "losses_total_diff",
         "rawType": "float64",
         "type": "float"
        },
        {
         "name": "age_diff",
         "rawType": "float64",
         "type": "float"
        },
        {
         "name": "height_diff",
         "rawType": "float64",
         "type": "float"
        },
        {
         "name": "weight_diff",
         "rawType": "float64",
         "type": "float"
        },
        {
         "name": "reach_diff",
         "rawType": "float64",
         "type": "float"
        },
        {
         "name": "SLpM_total_diff",
         "rawType": "float64",
         "type": "float"
        },
        {
         "name": "SApM_total_diff",
         "rawType": "float64",
         "type": "float"
        },
        {
         "name": "sig_str_acc_total_diff",
         "rawType": "float64",
         "type": "float"
        },
        {
         "name": "td_acc_total_diff",
         "rawType": "float64",
         "type": "float"
        },
        {
         "name": "str_def_total_diff",
         "rawType": "float64",
         "type": "float"
        },
        {
         "name": "td_def_total_diff",
         "rawType": "float64",
         "type": "float"
        },
        {
         "name": "sub_avg_diff",
         "rawType": "float64",
         "type": "float"
        },
        {
         "name": "td_avg_diff",
         "rawType": "float64",
         "type": "float"
        }
       ],
       "ref": "5e72a309-69da-41c0-b0e6-af44e3d219ac",
       "rows": [
        [
         "count",
         "7439.0",
         "7439.0",
         "7408.0",
         "7439.0",
         "7439.0",
         "7439.0",
         "7439.0",
         "7439.0",
         "7439.0",
         "7439.0",
         "7439.0",
         "7439.0",
         "7439.0",
         "7439.0",
         "7439.0",
         "7439.0",
         "7439.0",
         "7439.0",
         "7439.0",
         "7363.0",
         "7439.0",
         "7439.0",
         "7027.0",
         "7439.0",
         "7439.0",
         "7439.0",
         "7439.0",
         "7439.0",
         "7439.0",
         "7439.0",
         "7439.0",
         "7439.0",
         "7439.0",
         "7439.0",
         "7439.0",
         "7439.0",
         "7439.0",
         "7439.0",
         "7439.0",
         "7439.0",
         "7439.0",
         "7439.0",
         "7439.0",
         "7439.0",
         "7439.0",
         "7439.0",
         "7249.0",
         "7439.0",
         "7439.0",
         "6551.0",
         "7439.0",
         "7439.0",
         "7439.0",
         "7439.0",
         "7439.0",
         "7439.0",
         "7439.0",
         "7439.0",
         "7439.0",
         "7439.0",
         "7439.0",
         "7439.0",
         "7439.0",
         "7439.0",
         "7439.0",
         "7439.0",
         "7439.0",
         "7439.0",
         "7439.0",
         "7439.0",
         "7439.0",
         "7439.0",
         "7439.0",
         "7226.0",
         "7439.0",
         "7439.0",
         "6401.0",
         "7439.0",
         "7439.0",
         "7439.0",
         "7439.0",
         "7439.0",
         "7439.0",
         "7439.0",
         "7439.0"
        ],
        [
         "mean",
         "0.055787068154321814",
         "2.3363355289689474",
         "3.128914686825054",
         "227.01666890711118",
         "0.24922704664605458",
         "38.36120446296545",
         "83.78626159430031",
         "0.47533539454227725",
         "58.1998924586638",
         "106.37491598333109",
         "0.5554429358784784",
         "1.2265089393735717",
         "2.9408522650893936",
         "0.31107541336201106",
         "0.455706412152171",
         "0.13442667025137786",
         "152.120849576556",
         "19.187928485011426",
         "7.940314558408388",
         "38.3168545429852",
         "178.62083075682216",
         "76.4883962898239",
         "183.2125458944073",
         "3.4117583008468886",
         "3.2828632880763546",
         "0.4414235784379621",
         "0.3883210108885603",
         "0.5431092888829143",
         "0.602820271541874",
         "0.6451942465385133",
         "1.5980656002150824",
         "0.18134157816910876",
         "33.49993278666487",
         "78.22247613926604",
         "0.4298454093292109",
         "49.41699153111978",
         "96.38230945019492",
         "0.5151552628041404",
         "0.8929963704799032",
         "2.652507057400188",
         "0.2262105121656137",
         "0.32544696867858586",
         "0.13308240354886408",
         "109.20473181879285",
         "17.169108751176232",
         "7.399112783976341",
         "37.718995723548076",
         "178.57473585159295",
         "76.31739615539723",
         "182.8191268508625",
         "3.269163866111036",
         "3.4545059819868262",
         "0.429314423981718",
         "0.3601572792041941",
         "0.522200564592015",
         "0.5653071649415243",
         "0.5995429493211453",
         "1.4635784379620917",
         "0.06788546847694582",
         "4.861271676300578",
         "5.563785455034279",
         "0.04548998521306627",
         "8.782900927544025",
         "9.992606533136174",
         "0.04028767307433795",
         "0.3335125688936685",
         "0.2883452076892055",
         "0.08486490119639736",
         "0.13025944347358515",
         "0.0013442667025137787",
         "42.91611775776314",
         "2.0188197338351928",
         "0.5412017744320473",
         "0.3880431774148907",
         "0.04609490522919709",
         "0.17100013442667023",
         "0.19007342602718302",
         "0.1425944347358516",
         "-0.17164269391047182",
         "0.012109154456244116",
         "0.028163731684366176",
         "0.020908724290899308",
         "0.037513106600349504",
         "0.04565129721736793",
         "0.13448716225299098"
        ],
        [
         "std",
         "0.2295254954043155",
         "1.0152433592915544",
         "0.6527389277092381",
         "98.16966502758817",
         "0.5242099338897364",
         "32.87127771438103",
         "71.38180591091012",
         "0.16593511780877657",
         "46.05750313511216",
         "79.81221015230271",
         "0.17640166418267078",
         "1.8192501032133772",
         "3.7107355535751574",
         "0.37221356934747374",
         "0.8973351889655057",
         "0.4272219536816102",
         "192.0973057589237",
         "9.474206616710825",
         "4.641395449220389",
         "6.426287555049292",
         "8.969921031471007",
         "16.42867814865983",
         "10.84263289626875",
         "1.3329916296752227",
         "1.2224339429265836",
         "0.0923384065609155",
         "0.18674917049064957",
         "0.09771273848198121",
         "0.20521823544736614",
         "0.757643288287707",
         "1.272004073076621",
         "0.455962000536261",
         "30.75908815995946",
         "68.82866523163027",
         "0.17406289726702742",
         "41.37605933549951",
         "76.20542346313309",
         "0.18620211664479985",
         "1.5217710698004774",
         "3.7046211184867444",
         "0.3341903714972128",
         "0.7653680386474901",
         "0.4135784232673895",
         "151.63587454924576",
         "9.235376740705068",
         "4.471024007935323",
         "6.415852356756337",
         "8.88538493416768",
         "16.700749025841233",
         "10.660760591899601",
         "1.4513672518019045",
         "1.549403052718899",
         "0.11016091261772205",
         "0.2134298821591252",
         "0.11618480052384372",
         "0.23903450174838123",
         "0.8079081475572857",
         "1.310877329788677",
         "0.7313806793274337",
         "26.498537130727783",
         "42.93308118506329",
         "0.2403791117605374",
         "45.84268842330887",
         "61.554185881962546",
         "0.22964601645072955",
         "2.5092342315310305",
         "5.508414687078008",
         "0.5248879365699586",
         "1.1544353482470757",
         "0.482552057238118",
         "248.351020907045",
         "11.609129871570985",
         "5.727700268916668",
         "5.223528443700608",
         "6.497921293122977",
         "6.77419890812688",
         "8.25262790026503",
         "1.585610337005506",
         "1.691358011600204",
         "0.11991852536091054",
         "0.2763069645573945",
         "0.113455145537389",
         "0.29210702061278054",
         "1.052064694269482",
         "1.7815984880711757"
        ],
        [
         "min",
         "0.0",
         "1.0",
         "1.0",
         "5.0",
         "0.0",
         "0.0",
         "0.0",
         "0.0",
         "0.0",
         "0.0",
         "0.0",
         "0.0",
         "0.0",
         "0.0",
         "0.0",
         "0.0",
         "0.0",
         "0.0",
         "0.0",
         "19.0",
         "152.4",
         "52.16",
         "147.32",
         "0.0",
         "0.0",
         "0.0",
         "0.0",
         "0.0",
         "0.0",
         "0.0",
         "0.0",
         "0.0",
         "0.0",
         "0.0",
         "0.0",
         "0.0",
         "0.0",
         "0.0",
         "0.0",
         "0.0",
         "0.0",
         "0.0",
         "0.0",
         "0.0",
         "0.0",
         "0.0",
         "21.0",
         "152.4",
         "52.16",
         "147.32",
         "0.0",
         "0.0",
         "0.0",
         "0.0",
         "0.0",
         "0.0",
         "0.0",
         "0.0",
         "-4.0",
         "-157.0",
         "-318.0",
         "-1.0",
         "-276.0",
         "-339.0",
         "-1.0",
         "-12.0",
         "-44.0",
         "-1.0",
         "-7.0",
         "-3.0",
         "-1164.0",
         "-241.0",
         "-47.0",
         "-24.0",
         "-30.47999999999999",
         "-258.54999999999995",
         "-27.940000000000023",
         "-8.99",
         "-39.49",
         "-0.7",
         "-1.0",
         "-0.58",
         "-1.0",
         "-15.099999999999998",
         "-11.77"
        ],
        [
         "25%",
         "0.0",
         "1.0",
         "3.0",
         "149.0",
         "0.0",
         "14.0",
         "29.0",
         "0.37",
         "22.0",
         "40.0",
         "0.44",
         "0.0",
         "0.0",
         "0.0",
         "0.0",
         "0.0",
         "7.0",
         "13.0",
         "5.0",
         "34.0",
         "172.72",
         "65.77",
         "177.8",
         "2.57",
         "2.51",
         "0.4",
         "0.29",
         "0.51",
         "0.5",
         "0.1",
         "0.62",
         "0.0",
         "10.0",
         "24.0",
         "0.33",
         "16.0",
         "33.0",
         "0.4",
         "0.0",
         "0.0",
         "0.0",
         "0.0",
         "0.0",
         "2.0",
         "11.0",
         "4.0",
         "33.0",
         "172.72",
         "65.77",
         "175.26",
         "2.34",
         "2.6",
         "0.39",
         "0.25",
         "0.49",
         "0.45",
         "0.0",
         "0.49",
         "0.0",
         "-8.0",
         "-14.0",
         "-0.09",
         "-12.0",
         "-19.0",
         "-0.09",
         "-1.0",
         "-2.0",
         "-0.2",
         "0.0",
         "0.0",
         "-53.0",
         "-4.0",
         "-3.0",
         "-3.0",
         "-5.079999999999984",
         "0.0",
         "-5.0800000000000125",
         "-0.8600000000000003",
         "-1.04",
         "-0.06",
         "-0.13",
         "-0.04",
         "-0.14",
         "-0.3999999999999999",
         "-0.8699999999999999"
        ],
        [
         "50%",
         "0.0",
         "3.0",
         "3.0",
         "287.0",
         "0.0",
         "31.0",
         "66.0",
         "0.47",
         "50.0",
         "94.0",
         "0.55",
         "1.0",
         "1.0",
         "0.11",
         "0.0",
         "0.0",
         "72.0",
         "18.0",
         "7.0",
         "38.0",
         "177.8",
         "77.11",
         "182.88",
         "3.33",
         "3.18",
         "0.45",
         "0.39",
         "0.56",
         "0.63",
         "0.5",
         "1.33",
         "0.0",
         "25.0",
         "60.0",
         "0.43",
         "41.0",
         "83.0",
         "0.52",
         "0.0",
         "1.0",
         "0.0",
         "0.0",
         "0.0",
         "42.0",
         "16.0",
         "7.0",
         "37.0",
         "177.8",
         "70.31",
         "182.88",
         "3.25",
         "3.29",
         "0.44",
         "0.36",
         "0.54",
         "0.61",
         "0.4",
         "1.16",
         "0.0",
         "4.0",
         "4.0",
         "0.0399999999999999",
         "6.0",
         "6.0",
         "0.03",
         "0.0",
         "0.0",
         "0.0",
         "0.0",
         "0.0",
         "5.0",
         "2.0",
         "0.0",
         "0.0",
         "0.0",
         "0.0",
         "0.0",
         "0.1300000000000003",
         "-0.1200000000000001",
         "0.0099999999999999",
         "0.0199999999999999",
         "0.01",
         "0.02",
         "0.0",
         "0.09"
        ],
        [
         "75%",
         "0.0",
         "3.0",
         "3.0",
         "300.0",
         "0.0",
         "54.0",
         "120.0",
         "0.57",
         "83.0",
         "156.0",
         "0.68",
         "2.0",
         "4.0",
         "0.57",
         "1.0",
         "0.0",
         "230.0",
         "24.0",
         "11.0",
         "42.0",
         "185.42",
         "83.91",
         "190.5",
         "4.205",
         "3.9450000000000003",
         "0.5",
         "0.5",
         "0.6",
         "0.74",
         "0.9",
         "2.29",
         "0.0",
         "48.0",
         "115.0",
         "0.53",
         "72.0",
         "143.0",
         "0.64",
         "1.0",
         "4.0",
         "0.4",
         "0.0",
         "0.0",
         "159.5",
         "21.0",
         "10.0",
         "42.0",
         "185.42",
         "83.91",
         "190.5",
         "4.11",
         "4.18",
         "0.49",
         "0.48",
         "0.59",
         "0.72",
         "0.8",
         "2.12",
         "0.0",
         "18.0",
         "26.0",
         "0.17",
         "29.0",
         "38.0",
         "0.1699999999999999",
         "1.0",
         "3.0",
         "0.5",
         "0.0",
         "0.0",
         "144.0",
         "8.0",
         "4.0",
         "4.0",
         "5.079999999999984",
         "0.0",
         "5.0800000000000125",
         "1.16",
         "0.79",
         "0.0799999999999999",
         "0.1899999999999999",
         "0.0799999999999999",
         "0.21",
         "0.5",
         "1.16"
        ],
        [
         "max",
         "1.0",
         "5.0",
         "5.0",
         "1080.0",
         "5.0",
         "445.0",
         "744.0",
         "1.0",
         "447.0",
         "746.0",
         "1.0",
         "21.0",
         "27.0",
         "1.0",
         "10.0",
         "6.0",
         "1342.0",
         "253.0",
         "53.0",
         "65.0",
         "210.82",
         "156.49",
         "213.36",
         "23.33",
         "15.48",
         "0.83",
         "1.0",
         "0.84",
         "1.0",
         "13.8",
         "11.11",
         "4.0",
         "241.0",
         "510.0",
         "1.0",
         "336.0",
         "556.0",
         "1.0",
         "12.0",
         "49.0",
         "1.0",
         "7.0",
         "4.0",
         "1193.0",
         "253.0",
         "53.0",
         "81.0",
         "210.82",
         "349.27",
         "213.36",
         "11.03",
         "42.0",
         "1.0",
         "1.0",
         "1.0",
         "1.0",
         "16.4",
         "13.95",
         "5.0",
         "312.0",
         "461.0",
         "1.0",
         "315.0",
         "462.0",
         "1.0",
         "20.0",
         "26.0",
         "1.0",
         "10.0",
         "5.0",
         "1301.0",
         "249.0",
         "46.0",
         "17.0",
         "33.02000000000001",
         "52.16000000000001",
         "33.01999999999998",
         "18.78",
         "12.64",
         "0.83",
         "1.0",
         "0.72",
         "1.0",
         "13.8",
         "11.11"
        ]
       ],
       "shape": {
        "columns": 85,
        "rows": 8
       }
      },
      "text/html": [
       "<div>\n",
       "<style scoped>\n",
       "    .dataframe tbody tr th:only-of-type {\n",
       "        vertical-align: middle;\n",
       "    }\n",
       "\n",
       "    .dataframe tbody tr th {\n",
       "        vertical-align: top;\n",
       "    }\n",
       "\n",
       "    .dataframe thead th {\n",
       "        text-align: right;\n",
       "    }\n",
       "</style>\n",
       "<table border=\"1\" class=\"dataframe\">\n",
       "  <thead>\n",
       "    <tr style=\"text-align: right;\">\n",
       "      <th></th>\n",
       "      <th>is_title_bout</th>\n",
       "      <th>finish_round</th>\n",
       "      <th>total_rounds</th>\n",
       "      <th>time_sec</th>\n",
       "      <th>r_kd</th>\n",
       "      <th>r_sig_str</th>\n",
       "      <th>r_sig_str_att</th>\n",
       "      <th>r_sig_str_acc</th>\n",
       "      <th>r_str</th>\n",
       "      <th>r_str_att</th>\n",
       "      <th>...</th>\n",
       "      <th>weight_diff</th>\n",
       "      <th>reach_diff</th>\n",
       "      <th>SLpM_total_diff</th>\n",
       "      <th>SApM_total_diff</th>\n",
       "      <th>sig_str_acc_total_diff</th>\n",
       "      <th>td_acc_total_diff</th>\n",
       "      <th>str_def_total_diff</th>\n",
       "      <th>td_def_total_diff</th>\n",
       "      <th>sub_avg_diff</th>\n",
       "      <th>td_avg_diff</th>\n",
       "    </tr>\n",
       "  </thead>\n",
       "  <tbody>\n",
       "    <tr>\n",
       "      <th>count</th>\n",
       "      <td>7439.000000</td>\n",
       "      <td>7439.000000</td>\n",
       "      <td>7408.000000</td>\n",
       "      <td>7439.000000</td>\n",
       "      <td>7439.000000</td>\n",
       "      <td>7439.000000</td>\n",
       "      <td>7439.000000</td>\n",
       "      <td>7439.000000</td>\n",
       "      <td>7439.000000</td>\n",
       "      <td>7439.000000</td>\n",
       "      <td>...</td>\n",
       "      <td>7439.000000</td>\n",
       "      <td>6401.000000</td>\n",
       "      <td>7439.000000</td>\n",
       "      <td>7439.000000</td>\n",
       "      <td>7439.000000</td>\n",
       "      <td>7439.000000</td>\n",
       "      <td>7439.000000</td>\n",
       "      <td>7439.000000</td>\n",
       "      <td>7439.000000</td>\n",
       "      <td>7439.000000</td>\n",
       "    </tr>\n",
       "    <tr>\n",
       "      <th>mean</th>\n",
       "      <td>0.055787</td>\n",
       "      <td>2.336336</td>\n",
       "      <td>3.128915</td>\n",
       "      <td>227.016669</td>\n",
       "      <td>0.249227</td>\n",
       "      <td>38.361204</td>\n",
       "      <td>83.786262</td>\n",
       "      <td>0.475335</td>\n",
       "      <td>58.199892</td>\n",
       "      <td>106.374916</td>\n",
       "      <td>...</td>\n",
       "      <td>0.171000</td>\n",
       "      <td>0.190073</td>\n",
       "      <td>0.142594</td>\n",
       "      <td>-0.171643</td>\n",
       "      <td>0.012109</td>\n",
       "      <td>0.028164</td>\n",
       "      <td>0.020909</td>\n",
       "      <td>0.037513</td>\n",
       "      <td>0.045651</td>\n",
       "      <td>0.134487</td>\n",
       "    </tr>\n",
       "    <tr>\n",
       "      <th>std</th>\n",
       "      <td>0.229525</td>\n",
       "      <td>1.015243</td>\n",
       "      <td>0.652739</td>\n",
       "      <td>98.169665</td>\n",
       "      <td>0.524210</td>\n",
       "      <td>32.871278</td>\n",
       "      <td>71.381806</td>\n",
       "      <td>0.165935</td>\n",
       "      <td>46.057503</td>\n",
       "      <td>79.812210</td>\n",
       "      <td>...</td>\n",
       "      <td>6.774199</td>\n",
       "      <td>8.252628</td>\n",
       "      <td>1.585610</td>\n",
       "      <td>1.691358</td>\n",
       "      <td>0.119919</td>\n",
       "      <td>0.276307</td>\n",
       "      <td>0.113455</td>\n",
       "      <td>0.292107</td>\n",
       "      <td>1.052065</td>\n",
       "      <td>1.781598</td>\n",
       "    </tr>\n",
       "    <tr>\n",
       "      <th>min</th>\n",
       "      <td>0.000000</td>\n",
       "      <td>1.000000</td>\n",
       "      <td>1.000000</td>\n",
       "      <td>5.000000</td>\n",
       "      <td>0.000000</td>\n",
       "      <td>0.000000</td>\n",
       "      <td>0.000000</td>\n",
       "      <td>0.000000</td>\n",
       "      <td>0.000000</td>\n",
       "      <td>0.000000</td>\n",
       "      <td>...</td>\n",
       "      <td>-258.550000</td>\n",
       "      <td>-27.940000</td>\n",
       "      <td>-8.990000</td>\n",
       "      <td>-39.490000</td>\n",
       "      <td>-0.700000</td>\n",
       "      <td>-1.000000</td>\n",
       "      <td>-0.580000</td>\n",
       "      <td>-1.000000</td>\n",
       "      <td>-15.100000</td>\n",
       "      <td>-11.770000</td>\n",
       "    </tr>\n",
       "    <tr>\n",
       "      <th>25%</th>\n",
       "      <td>0.000000</td>\n",
       "      <td>1.000000</td>\n",
       "      <td>3.000000</td>\n",
       "      <td>149.000000</td>\n",
       "      <td>0.000000</td>\n",
       "      <td>14.000000</td>\n",
       "      <td>29.000000</td>\n",
       "      <td>0.370000</td>\n",
       "      <td>22.000000</td>\n",
       "      <td>40.000000</td>\n",
       "      <td>...</td>\n",
       "      <td>0.000000</td>\n",
       "      <td>-5.080000</td>\n",
       "      <td>-0.860000</td>\n",
       "      <td>-1.040000</td>\n",
       "      <td>-0.060000</td>\n",
       "      <td>-0.130000</td>\n",
       "      <td>-0.040000</td>\n",
       "      <td>-0.140000</td>\n",
       "      <td>-0.400000</td>\n",
       "      <td>-0.870000</td>\n",
       "    </tr>\n",
       "    <tr>\n",
       "      <th>50%</th>\n",
       "      <td>0.000000</td>\n",
       "      <td>3.000000</td>\n",
       "      <td>3.000000</td>\n",
       "      <td>287.000000</td>\n",
       "      <td>0.000000</td>\n",
       "      <td>31.000000</td>\n",
       "      <td>66.000000</td>\n",
       "      <td>0.470000</td>\n",
       "      <td>50.000000</td>\n",
       "      <td>94.000000</td>\n",
       "      <td>...</td>\n",
       "      <td>0.000000</td>\n",
       "      <td>0.000000</td>\n",
       "      <td>0.130000</td>\n",
       "      <td>-0.120000</td>\n",
       "      <td>0.010000</td>\n",
       "      <td>0.020000</td>\n",
       "      <td>0.010000</td>\n",
       "      <td>0.020000</td>\n",
       "      <td>0.000000</td>\n",
       "      <td>0.090000</td>\n",
       "    </tr>\n",
       "    <tr>\n",
       "      <th>75%</th>\n",
       "      <td>0.000000</td>\n",
       "      <td>3.000000</td>\n",
       "      <td>3.000000</td>\n",
       "      <td>300.000000</td>\n",
       "      <td>0.000000</td>\n",
       "      <td>54.000000</td>\n",
       "      <td>120.000000</td>\n",
       "      <td>0.570000</td>\n",
       "      <td>83.000000</td>\n",
       "      <td>156.000000</td>\n",
       "      <td>...</td>\n",
       "      <td>0.000000</td>\n",
       "      <td>5.080000</td>\n",
       "      <td>1.160000</td>\n",
       "      <td>0.790000</td>\n",
       "      <td>0.080000</td>\n",
       "      <td>0.190000</td>\n",
       "      <td>0.080000</td>\n",
       "      <td>0.210000</td>\n",
       "      <td>0.500000</td>\n",
       "      <td>1.160000</td>\n",
       "    </tr>\n",
       "    <tr>\n",
       "      <th>max</th>\n",
       "      <td>1.000000</td>\n",
       "      <td>5.000000</td>\n",
       "      <td>5.000000</td>\n",
       "      <td>1080.000000</td>\n",
       "      <td>5.000000</td>\n",
       "      <td>445.000000</td>\n",
       "      <td>744.000000</td>\n",
       "      <td>1.000000</td>\n",
       "      <td>447.000000</td>\n",
       "      <td>746.000000</td>\n",
       "      <td>...</td>\n",
       "      <td>52.160000</td>\n",
       "      <td>33.020000</td>\n",
       "      <td>18.780000</td>\n",
       "      <td>12.640000</td>\n",
       "      <td>0.830000</td>\n",
       "      <td>1.000000</td>\n",
       "      <td>0.720000</td>\n",
       "      <td>1.000000</td>\n",
       "      <td>13.800000</td>\n",
       "      <td>11.110000</td>\n",
       "    </tr>\n",
       "  </tbody>\n",
       "</table>\n",
       "<p>8 rows × 85 columns</p>\n",
       "</div>"
      ],
      "text/plain": [
       "       is_title_bout  finish_round  total_rounds     time_sec         r_kd  \\\n",
       "count    7439.000000   7439.000000   7408.000000  7439.000000  7439.000000   \n",
       "mean        0.055787      2.336336      3.128915   227.016669     0.249227   \n",
       "std         0.229525      1.015243      0.652739    98.169665     0.524210   \n",
       "min         0.000000      1.000000      1.000000     5.000000     0.000000   \n",
       "25%         0.000000      1.000000      3.000000   149.000000     0.000000   \n",
       "50%         0.000000      3.000000      3.000000   287.000000     0.000000   \n",
       "75%         0.000000      3.000000      3.000000   300.000000     0.000000   \n",
       "max         1.000000      5.000000      5.000000  1080.000000     5.000000   \n",
       "\n",
       "         r_sig_str  r_sig_str_att  r_sig_str_acc        r_str    r_str_att  \\\n",
       "count  7439.000000    7439.000000    7439.000000  7439.000000  7439.000000   \n",
       "mean     38.361204      83.786262       0.475335    58.199892   106.374916   \n",
       "std      32.871278      71.381806       0.165935    46.057503    79.812210   \n",
       "min       0.000000       0.000000       0.000000     0.000000     0.000000   \n",
       "25%      14.000000      29.000000       0.370000    22.000000    40.000000   \n",
       "50%      31.000000      66.000000       0.470000    50.000000    94.000000   \n",
       "75%      54.000000     120.000000       0.570000    83.000000   156.000000   \n",
       "max     445.000000     744.000000       1.000000   447.000000   746.000000   \n",
       "\n",
       "       ...  weight_diff   reach_diff  SLpM_total_diff  SApM_total_diff  \\\n",
       "count  ...  7439.000000  6401.000000      7439.000000      7439.000000   \n",
       "mean   ...     0.171000     0.190073         0.142594        -0.171643   \n",
       "std    ...     6.774199     8.252628         1.585610         1.691358   \n",
       "min    ...  -258.550000   -27.940000        -8.990000       -39.490000   \n",
       "25%    ...     0.000000    -5.080000        -0.860000        -1.040000   \n",
       "50%    ...     0.000000     0.000000         0.130000        -0.120000   \n",
       "75%    ...     0.000000     5.080000         1.160000         0.790000   \n",
       "max    ...    52.160000    33.020000        18.780000        12.640000   \n",
       "\n",
       "       sig_str_acc_total_diff  td_acc_total_diff  str_def_total_diff  \\\n",
       "count             7439.000000        7439.000000         7439.000000   \n",
       "mean                 0.012109           0.028164            0.020909   \n",
       "std                  0.119919           0.276307            0.113455   \n",
       "min                 -0.700000          -1.000000           -0.580000   \n",
       "25%                 -0.060000          -0.130000           -0.040000   \n",
       "50%                  0.010000           0.020000            0.010000   \n",
       "75%                  0.080000           0.190000            0.080000   \n",
       "max                  0.830000           1.000000            0.720000   \n",
       "\n",
       "       td_def_total_diff  sub_avg_diff  td_avg_diff  \n",
       "count        7439.000000   7439.000000  7439.000000  \n",
       "mean            0.037513      0.045651     0.134487  \n",
       "std             0.292107      1.052065     1.781598  \n",
       "min            -1.000000    -15.100000   -11.770000  \n",
       "25%            -0.140000     -0.400000    -0.870000  \n",
       "50%             0.020000      0.000000     0.090000  \n",
       "75%             0.210000      0.500000     1.160000  \n",
       "max             1.000000     13.800000    11.110000  \n",
       "\n",
       "[8 rows x 85 columns]"
      ]
     },
     "execution_count": 1133,
     "metadata": {},
     "output_type": "execute_result"
    }
   ],
   "source": [
    "all_fights.describe()"
   ]
  },
  {
   "cell_type": "code",
   "execution_count": 1134,
   "id": "fcbfb897",
   "metadata": {},
   "outputs": [
    {
     "data": {
      "application/vnd.microsoft.datawrangler.viewer.v0+json": {
       "columns": [
        {
         "name": "index",
         "rawType": "int64",
         "type": "integer"
        },
        {
         "name": "name",
         "rawType": "object",
         "type": "string"
        },
        {
         "name": "wins",
         "rawType": "float64",
         "type": "float"
        },
        {
         "name": "losses",
         "rawType": "float64",
         "type": "float"
        },
        {
         "name": "height",
         "rawType": "float64",
         "type": "float"
        },
        {
         "name": "weight",
         "rawType": "float64",
         "type": "float"
        },
        {
         "name": "reach",
         "rawType": "float64",
         "type": "float"
        },
        {
         "name": "stance",
         "rawType": "object",
         "type": "string"
        },
        {
         "name": "age",
         "rawType": "float64",
         "type": "float"
        },
        {
         "name": "SLpM",
         "rawType": "float64",
         "type": "float"
        },
        {
         "name": "sig_str_acc",
         "rawType": "float64",
         "type": "float"
        },
        {
         "name": "SApM",
         "rawType": "float64",
         "type": "float"
        },
        {
         "name": "str_def",
         "rawType": "float64",
         "type": "float"
        },
        {
         "name": "td_avg",
         "rawType": "float64",
         "type": "float"
        },
        {
         "name": "td_acc",
         "rawType": "float64",
         "type": "float"
        },
        {
         "name": "td_def",
         "rawType": "float64",
         "type": "float"
        },
        {
         "name": "sub_avg",
         "rawType": "float64",
         "type": "float"
        }
       ],
       "ref": "ac57b14e-a01a-42e1-bb81-9173f1a59888",
       "rows": [
        [
         "0",
         "Amanda Ribas",
         "12.0",
         "5.0",
         "160.02",
         "56.7",
         "167.64",
         "Orthodox",
         "30.0",
         "4.63",
         "0.4",
         "3.4",
         "0.61",
         "2.07",
         "0.51",
         "0.85",
         "0.7"
        ],
        [
         "1",
         "Rose Namajunas",
         "13.0",
         "6.0",
         "165.1",
         "56.7",
         "165.1",
         "Orthodox",
         "31.0",
         "3.69",
         "0.41",
         "3.51",
         "0.63",
         "1.38",
         "0.47",
         "0.59",
         "0.5"
        ],
        [
         "2",
         "Karl Williams",
         "10.0",
         "1.0",
         "190.5",
         "106.59",
         "200.66",
         "Orthodox",
         "34.0",
         "2.87",
         "0.52",
         "1.7",
         "0.6",
         "4.75",
         "0.5",
         "1.0",
         "0.2"
        ],
        [
         "3",
         "Justin Tafa",
         "7.0",
         "4.0",
         "182.88",
         "119.75",
         "187.96",
         "Southpaw",
         "30.0",
         "4.09",
         "0.54",
         "5.02",
         "0.47",
         "0.0",
         "0.0",
         "0.5",
         "0.0"
        ],
        [
         "4",
         "Edmen Shahbazyan",
         "13.0",
         "4.0",
         "187.96",
         "83.91",
         "190.5",
         "Orthodox",
         "26.0",
         "3.6",
         "0.52",
         "4.09",
         "0.45",
         "2.24",
         "0.38",
         "0.63",
         "0.6"
        ]
       ],
       "shape": {
        "columns": 16,
        "rows": 5
       }
      },
      "text/html": [
       "<div>\n",
       "<style scoped>\n",
       "    .dataframe tbody tr th:only-of-type {\n",
       "        vertical-align: middle;\n",
       "    }\n",
       "\n",
       "    .dataframe tbody tr th {\n",
       "        vertical-align: top;\n",
       "    }\n",
       "\n",
       "    .dataframe thead th {\n",
       "        text-align: right;\n",
       "    }\n",
       "</style>\n",
       "<table border=\"1\" class=\"dataframe\">\n",
       "  <thead>\n",
       "    <tr style=\"text-align: right;\">\n",
       "      <th></th>\n",
       "      <th>name</th>\n",
       "      <th>wins</th>\n",
       "      <th>losses</th>\n",
       "      <th>height</th>\n",
       "      <th>weight</th>\n",
       "      <th>reach</th>\n",
       "      <th>stance</th>\n",
       "      <th>age</th>\n",
       "      <th>SLpM</th>\n",
       "      <th>sig_str_acc</th>\n",
       "      <th>SApM</th>\n",
       "      <th>str_def</th>\n",
       "      <th>td_avg</th>\n",
       "      <th>td_acc</th>\n",
       "      <th>td_def</th>\n",
       "      <th>sub_avg</th>\n",
       "    </tr>\n",
       "  </thead>\n",
       "  <tbody>\n",
       "    <tr>\n",
       "      <th>0</th>\n",
       "      <td>Amanda Ribas</td>\n",
       "      <td>12.0</td>\n",
       "      <td>5.0</td>\n",
       "      <td>160.02</td>\n",
       "      <td>56.70</td>\n",
       "      <td>167.64</td>\n",
       "      <td>Orthodox</td>\n",
       "      <td>30.0</td>\n",
       "      <td>4.63</td>\n",
       "      <td>0.40</td>\n",
       "      <td>3.40</td>\n",
       "      <td>0.61</td>\n",
       "      <td>2.07</td>\n",
       "      <td>0.51</td>\n",
       "      <td>0.85</td>\n",
       "      <td>0.7</td>\n",
       "    </tr>\n",
       "    <tr>\n",
       "      <th>1</th>\n",
       "      <td>Rose Namajunas</td>\n",
       "      <td>13.0</td>\n",
       "      <td>6.0</td>\n",
       "      <td>165.10</td>\n",
       "      <td>56.70</td>\n",
       "      <td>165.10</td>\n",
       "      <td>Orthodox</td>\n",
       "      <td>31.0</td>\n",
       "      <td>3.69</td>\n",
       "      <td>0.41</td>\n",
       "      <td>3.51</td>\n",
       "      <td>0.63</td>\n",
       "      <td>1.38</td>\n",
       "      <td>0.47</td>\n",
       "      <td>0.59</td>\n",
       "      <td>0.5</td>\n",
       "    </tr>\n",
       "    <tr>\n",
       "      <th>2</th>\n",
       "      <td>Karl Williams</td>\n",
       "      <td>10.0</td>\n",
       "      <td>1.0</td>\n",
       "      <td>190.50</td>\n",
       "      <td>106.59</td>\n",
       "      <td>200.66</td>\n",
       "      <td>Orthodox</td>\n",
       "      <td>34.0</td>\n",
       "      <td>2.87</td>\n",
       "      <td>0.52</td>\n",
       "      <td>1.70</td>\n",
       "      <td>0.60</td>\n",
       "      <td>4.75</td>\n",
       "      <td>0.50</td>\n",
       "      <td>1.00</td>\n",
       "      <td>0.2</td>\n",
       "    </tr>\n",
       "    <tr>\n",
       "      <th>3</th>\n",
       "      <td>Justin Tafa</td>\n",
       "      <td>7.0</td>\n",
       "      <td>4.0</td>\n",
       "      <td>182.88</td>\n",
       "      <td>119.75</td>\n",
       "      <td>187.96</td>\n",
       "      <td>Southpaw</td>\n",
       "      <td>30.0</td>\n",
       "      <td>4.09</td>\n",
       "      <td>0.54</td>\n",
       "      <td>5.02</td>\n",
       "      <td>0.47</td>\n",
       "      <td>0.00</td>\n",
       "      <td>0.00</td>\n",
       "      <td>0.50</td>\n",
       "      <td>0.0</td>\n",
       "    </tr>\n",
       "    <tr>\n",
       "      <th>4</th>\n",
       "      <td>Edmen Shahbazyan</td>\n",
       "      <td>13.0</td>\n",
       "      <td>4.0</td>\n",
       "      <td>187.96</td>\n",
       "      <td>83.91</td>\n",
       "      <td>190.50</td>\n",
       "      <td>Orthodox</td>\n",
       "      <td>26.0</td>\n",
       "      <td>3.60</td>\n",
       "      <td>0.52</td>\n",
       "      <td>4.09</td>\n",
       "      <td>0.45</td>\n",
       "      <td>2.24</td>\n",
       "      <td>0.38</td>\n",
       "      <td>0.63</td>\n",
       "      <td>0.6</td>\n",
       "    </tr>\n",
       "  </tbody>\n",
       "</table>\n",
       "</div>"
      ],
      "text/plain": [
       "               name  wins  losses  height  weight   reach    stance   age  \\\n",
       "0      Amanda Ribas  12.0     5.0  160.02   56.70  167.64  Orthodox  30.0   \n",
       "1    Rose Namajunas  13.0     6.0  165.10   56.70  165.10  Orthodox  31.0   \n",
       "2     Karl Williams  10.0     1.0  190.50  106.59  200.66  Orthodox  34.0   \n",
       "3       Justin Tafa   7.0     4.0  182.88  119.75  187.96  Southpaw  30.0   \n",
       "4  Edmen Shahbazyan  13.0     4.0  187.96   83.91  190.50  Orthodox  26.0   \n",
       "\n",
       "   SLpM  sig_str_acc  SApM  str_def  td_avg  td_acc  td_def  sub_avg  \n",
       "0  4.63         0.40  3.40     0.61    2.07    0.51    0.85      0.7  \n",
       "1  3.69         0.41  3.51     0.63    1.38    0.47    0.59      0.5  \n",
       "2  2.87         0.52  1.70     0.60    4.75    0.50    1.00      0.2  \n",
       "3  4.09         0.54  5.02     0.47    0.00    0.00    0.50      0.0  \n",
       "4  3.60         0.52  4.09     0.45    2.24    0.38    0.63      0.6  "
      ]
     },
     "execution_count": 1134,
     "metadata": {},
     "output_type": "execute_result"
    }
   ],
   "source": [
    "fighter_data = pd.read_csv('UFC dataset/Fighter stats/fighter_stats.csv')\n",
    "fighter_data.head()"
   ]
  },
  {
   "cell_type": "markdown",
   "id": "a82f6e0f",
   "metadata": {},
   "source": [
    "## 2. Data Preparation\n"
   ]
  },
  {
   "cell_type": "code",
   "execution_count": 1135,
   "id": "6a17c3b2",
   "metadata": {},
   "outputs": [
    {
     "data": {
      "application/vnd.microsoft.datawrangler.viewer.v0+json": {
       "columns": [
        {
         "name": "index",
         "rawType": "int64",
         "type": "integer"
        },
        {
         "name": "name",
         "rawType": "object",
         "type": "string"
        },
        {
         "name": "wins",
         "rawType": "float64",
         "type": "float"
        },
        {
         "name": "losses",
         "rawType": "float64",
         "type": "float"
        },
        {
         "name": "height",
         "rawType": "float64",
         "type": "float"
        },
        {
         "name": "weight",
         "rawType": "float64",
         "type": "float"
        },
        {
         "name": "reach",
         "rawType": "float64",
         "type": "float"
        },
        {
         "name": "stance",
         "rawType": "object",
         "type": "string"
        },
        {
         "name": "age",
         "rawType": "float64",
         "type": "float"
        },
        {
         "name": "SLpM",
         "rawType": "float64",
         "type": "float"
        },
        {
         "name": "sig_str_acc",
         "rawType": "float64",
         "type": "float"
        },
        {
         "name": "SApM",
         "rawType": "float64",
         "type": "float"
        },
        {
         "name": "str_def",
         "rawType": "float64",
         "type": "float"
        },
        {
         "name": "td_avg",
         "rawType": "float64",
         "type": "float"
        },
        {
         "name": "td_acc",
         "rawType": "float64",
         "type": "float"
        },
        {
         "name": "td_def",
         "rawType": "float64",
         "type": "float"
        },
        {
         "name": "sub_avg",
         "rawType": "float64",
         "type": "float"
        }
       ],
       "ref": "19d0c4f0-c6e6-4b6a-be84-b7a1af3bfdde",
       "rows": [],
       "shape": {
        "columns": 16,
        "rows": 0
       }
      },
      "text/html": [
       "<div>\n",
       "<style scoped>\n",
       "    .dataframe tbody tr th:only-of-type {\n",
       "        vertical-align: middle;\n",
       "    }\n",
       "\n",
       "    .dataframe tbody tr th {\n",
       "        vertical-align: top;\n",
       "    }\n",
       "\n",
       "    .dataframe thead th {\n",
       "        text-align: right;\n",
       "    }\n",
       "</style>\n",
       "<table border=\"1\" class=\"dataframe\">\n",
       "  <thead>\n",
       "    <tr style=\"text-align: right;\">\n",
       "      <th></th>\n",
       "      <th>name</th>\n",
       "      <th>wins</th>\n",
       "      <th>losses</th>\n",
       "      <th>height</th>\n",
       "      <th>weight</th>\n",
       "      <th>reach</th>\n",
       "      <th>stance</th>\n",
       "      <th>age</th>\n",
       "      <th>SLpM</th>\n",
       "      <th>sig_str_acc</th>\n",
       "      <th>SApM</th>\n",
       "      <th>str_def</th>\n",
       "      <th>td_avg</th>\n",
       "      <th>td_acc</th>\n",
       "      <th>td_def</th>\n",
       "      <th>sub_avg</th>\n",
       "    </tr>\n",
       "  </thead>\n",
       "  <tbody>\n",
       "  </tbody>\n",
       "</table>\n",
       "</div>"
      ],
      "text/plain": [
       "Empty DataFrame\n",
       "Columns: [name, wins, losses, height, weight, reach, stance, age, SLpM, sig_str_acc, SApM, str_def, td_avg, td_acc, td_def, sub_avg]\n",
       "Index: []"
      ]
     },
     "execution_count": 1135,
     "metadata": {},
     "output_type": "execute_result"
    }
   ],
   "source": [
    "# Locate duplicates\n",
    "all_fights.loc[all_fights.duplicated()]\n",
    "fighter_data.loc[fighter_data.duplicated()]"
   ]
  },
  {
   "cell_type": "code",
   "execution_count": 1136,
   "id": "5bf0ce47",
   "metadata": {},
   "outputs": [],
   "source": [
    "# Remove columns that won't contribute to the analysis\n",
    "all_fights = all_fights[['r_fighter', 'b_fighter', 'winner',\n",
    "       'is_title_bout', 'method', 'r_wins_total',\n",
    "       'r_losses_total', 'r_age', 'r_height', 'r_weight', 'r_reach',\n",
    "       'r_stance', 'r_SLpM_total', 'r_SApM_total', 'r_sig_str_acc_total',\n",
    "       'r_td_acc_total', 'r_str_def_total', 'r_td_def_total', 'r_sub_avg',\n",
    "       'r_td_avg', 'b_wins_total', 'b_losses_total',\n",
    "       'b_age', 'b_height', 'b_weight', 'b_reach', 'b_stance', 'b_SLpM_total',\n",
    "       'b_SApM_total', 'b_sig_str_acc_total', 'b_td_acc_total',\n",
    "       'b_str_def_total', 'b_td_def_total', 'b_sub_avg', 'b_td_avg', 'wins_total_diff',\n",
    "       'losses_total_diff', 'age_diff', 'height_diff', 'weight_diff',\n",
    "       'reach_diff', 'SLpM_total_diff', 'SApM_total_diff',\n",
    "       'sig_str_acc_total_diff', 'td_acc_total_diff', 'str_def_total_diff',\n",
    "       'td_def_total_diff', 'sub_avg_diff', 'td_avg_diff']]\n",
    "fighter_data = fighter_data.drop(columns=['weight'])"
   ]
  },
  {
   "cell_type": "code",
   "execution_count": 1137,
   "id": "c7370173",
   "metadata": {},
   "outputs": [],
   "source": [
    "# For colummns with null values, find ratio of null entries to total entries\n",
    "def print_null_ratios(df):\n",
    "    for col in df.columns:\n",
    "        total_nulls = df[col].isnull().sum()\n",
    "        ratio = total_nulls / df.shape[0]\n",
    "        if total_nulls > 0:\n",
    "            print(f\"{col:<25} {total_nulls:<15} {ratio:<8.3f}\")"
   ]
  },
  {
   "cell_type": "code",
   "execution_count": 1138,
   "id": "79aba5d1",
   "metadata": {},
   "outputs": [
    {
     "name": "stdout",
     "output_type": "stream",
     "text": [
      "Column:                   Total Nulls:    Ratio:  \n",
      "r_age                     76              0.010   \n",
      "r_reach                   412             0.055   \n",
      "r_stance                  26              0.003   \n",
      "b_age                     190             0.026   \n",
      "b_reach                   888             0.119   \n",
      "b_stance                  68              0.009   \n",
      "age_diff                  213             0.029   \n",
      "reach_diff                1038            0.140   \n"
     ]
    }
   ],
   "source": [
    "# Number of null values in dataset of all fights\n",
    "print(f\"{'Column:':<25} {'Total Nulls:':<15} {'Ratio:':<8}\")\n",
    "print_null_ratios(all_fights)\n"
   ]
  },
  {
   "cell_type": "code",
   "execution_count": 1139,
   "id": "63529ce0",
   "metadata": {},
   "outputs": [
    {
     "name": "stdout",
     "output_type": "stream",
     "text": [
      "Column:                   Total Nulls:    Ratio:  \n",
      "name                      1               0.000   \n",
      "wins                      1               0.000   \n",
      "losses                    1               0.000   \n",
      "height                    1               0.000   \n",
      "reach                     656             0.265   \n",
      "stance                    78              0.031   \n",
      "age                       161             0.065   \n",
      "SLpM                      1               0.000   \n",
      "sig_str_acc               1               0.000   \n",
      "SApM                      1               0.000   \n",
      "str_def                   1               0.000   \n",
      "td_avg                    1               0.000   \n",
      "td_acc                    1               0.000   \n",
      "td_def                    1               0.000   \n",
      "sub_avg                   1               0.000   \n"
     ]
    }
   ],
   "source": [
    "# Number of null values in dataset of all fighters\n",
    "print(f\"{'Column:':<25} {'Total Nulls:':<15} {'Ratio:':<8}\")\n",
    "print_null_ratios(fighter_data)"
   ]
  },
  {
   "cell_type": "code",
   "execution_count": 1140,
   "id": "4c7adb47",
   "metadata": {},
   "outputs": [],
   "source": [
    "# Dropping Rows with Null Values\n",
    "def drop_null(df):\n",
    "    for col in df.columns:\n",
    "        df = df[df[col].notnull()]\n",
    "    return df\n",
    "\n",
    "fighter_data = drop_null(fighter_data)\n",
    "all_fights = drop_null(all_fights)"
   ]
  },
  {
   "cell_type": "code",
   "execution_count": 1141,
   "id": "13017b3a",
   "metadata": {},
   "outputs": [
    {
     "data": {
      "text/plain": [
       "array(['Blue', 'Red'], dtype=object)"
      ]
     },
     "execution_count": 1141,
     "metadata": {},
     "output_type": "execute_result"
    }
   ],
   "source": [
    "all_fights['winner'].unique()"
   ]
  },
  {
   "cell_type": "code",
   "execution_count": 1142,
   "id": "7dd16272",
   "metadata": {},
   "outputs": [
    {
     "data": {
      "text/plain": [
       "array(['Decision - Unanimous', 'KO/TKO', 'Submission', 'DQ',\n",
       "       'Decision - Split', 'Decision - Majority',\n",
       "       \"TKO - Doctor's Stoppage\"], dtype=object)"
      ]
     },
     "execution_count": 1142,
     "metadata": {},
     "output_type": "execute_result"
    }
   ],
   "source": [
    "# Looking at all the ways a fight could end\n",
    "all_fights['method'].unique()"
   ]
  },
  {
   "cell_type": "code",
   "execution_count": 1143,
   "id": "6cca178a",
   "metadata": {},
   "outputs": [],
   "source": [
    "# Removing fights that ended in a Disqualification or Doctor's Stoppage, then\n",
    "# dropping method column\n",
    "all_fights = all_fights[~all_fights['method'].isin(['DQ', \"TKO - Doctor Stoppage\"])]\n",
    "all_fights = all_fights.drop(columns=['method'])"
   ]
  },
  {
   "cell_type": "code",
   "execution_count": 1144,
   "id": "a369bc48",
   "metadata": {},
   "outputs": [],
   "source": [
    "# Rename columns for clarity\n",
    "all_fights = all_fights.rename(columns={\n",
    "    'r_fighter': 'Red Fighter',\n",
    "    'b_fighter': 'Blue Fighter',\n",
    "    'winner': 'Winner = Red',\n",
    "    'method': 'Method',\n",
    "    'is_title_bout': 'Is Title Bout',\n",
    "    'r_stance': 'Red Stance',\n",
    "    'b_stance': 'Blue Stance',\n",
    "    'age_diff': 'Age Difference',\n",
    "    'height_diff': 'Height Difference (cm)',\n",
    "    'reach_diff': 'Reach Difference (cm)',\n",
    "    'SLpM_total_diff': 'SLpM Diff',\n",
    "    'SApM_total_diff': 'SApM Diff',\n",
    "    'sig_str_acc_total_diff': 'Sig Str Acc Diff',\n",
    "    'td_acc_total_diff': 'TD Acc Diff',\n",
    "    'str_def_total_diff': 'Str Def Diff',\n",
    "    'td_def_total_diff': 'TD Def Diff',\n",
    "    'sub_avg_diff': 'Sub Avg Diff',\n",
    "    'td_avg_diff': 'TD Avg Diff'})"
   ]
  },
  {
   "cell_type": "code",
   "execution_count": 1145,
   "id": "64073c2d",
   "metadata": {},
   "outputs": [],
   "source": [
    "# Convert Winner column to binary: 1 if Red, 0 otherwise\n",
    "all_fights['Winner = Red'] = (all_fights['Winner = Red'] == 'Red').astype(int)"
   ]
  },
  {
   "cell_type": "code",
   "execution_count": 1146,
   "id": "973322db",
   "metadata": {},
   "outputs": [],
   "source": [
    "# Use one-got encoding to covert red stance and blue stance to numerical values\n",
    "all_fights = pd.get_dummies(all_fights, columns=['Red Stance', 'Blue Stance'],  dtype=int)"
   ]
  },
  {
   "cell_type": "code",
   "execution_count": 1147,
   "id": "754b1a8b",
   "metadata": {},
   "outputs": [
    {
     "data": {
      "application/vnd.microsoft.datawrangler.viewer.v0+json": {
       "columns": [
        {
         "name": "index",
         "rawType": "int64",
         "type": "integer"
        },
        {
         "name": "Red Fighter",
         "rawType": "object",
         "type": "string"
        },
        {
         "name": "Blue Fighter",
         "rawType": "object",
         "type": "string"
        },
        {
         "name": "Winner = Red",
         "rawType": "int64",
         "type": "integer"
        },
        {
         "name": "Is Title Bout",
         "rawType": "int64",
         "type": "integer"
        },
        {
         "name": "r_wins_total",
         "rawType": "int64",
         "type": "integer"
        },
        {
         "name": "r_losses_total",
         "rawType": "int64",
         "type": "integer"
        },
        {
         "name": "r_age",
         "rawType": "float64",
         "type": "float"
        },
        {
         "name": "r_height",
         "rawType": "float64",
         "type": "float"
        },
        {
         "name": "r_weight",
         "rawType": "float64",
         "type": "float"
        },
        {
         "name": "r_reach",
         "rawType": "float64",
         "type": "float"
        },
        {
         "name": "r_SLpM_total",
         "rawType": "float64",
         "type": "float"
        },
        {
         "name": "r_SApM_total",
         "rawType": "float64",
         "type": "float"
        },
        {
         "name": "r_sig_str_acc_total",
         "rawType": "float64",
         "type": "float"
        },
        {
         "name": "r_td_acc_total",
         "rawType": "float64",
         "type": "float"
        },
        {
         "name": "r_str_def_total",
         "rawType": "float64",
         "type": "float"
        },
        {
         "name": "r_td_def_total",
         "rawType": "float64",
         "type": "float"
        },
        {
         "name": "r_sub_avg",
         "rawType": "float64",
         "type": "float"
        },
        {
         "name": "r_td_avg",
         "rawType": "float64",
         "type": "float"
        },
        {
         "name": "b_wins_total",
         "rawType": "int64",
         "type": "integer"
        },
        {
         "name": "b_losses_total",
         "rawType": "int64",
         "type": "integer"
        },
        {
         "name": "b_age",
         "rawType": "float64",
         "type": "float"
        },
        {
         "name": "b_height",
         "rawType": "float64",
         "type": "float"
        },
        {
         "name": "b_weight",
         "rawType": "float64",
         "type": "float"
        },
        {
         "name": "b_reach",
         "rawType": "float64",
         "type": "float"
        },
        {
         "name": "b_SLpM_total",
         "rawType": "float64",
         "type": "float"
        },
        {
         "name": "b_SApM_total",
         "rawType": "float64",
         "type": "float"
        },
        {
         "name": "b_sig_str_acc_total",
         "rawType": "float64",
         "type": "float"
        },
        {
         "name": "b_td_acc_total",
         "rawType": "float64",
         "type": "float"
        },
        {
         "name": "b_str_def_total",
         "rawType": "float64",
         "type": "float"
        },
        {
         "name": "b_td_def_total",
         "rawType": "float64",
         "type": "float"
        },
        {
         "name": "b_sub_avg",
         "rawType": "float64",
         "type": "float"
        },
        {
         "name": "b_td_avg",
         "rawType": "float64",
         "type": "float"
        },
        {
         "name": "wins_total_diff",
         "rawType": "int64",
         "type": "integer"
        },
        {
         "name": "losses_total_diff",
         "rawType": "int64",
         "type": "integer"
        },
        {
         "name": "Age Difference",
         "rawType": "float64",
         "type": "float"
        },
        {
         "name": "Height Difference (cm)",
         "rawType": "float64",
         "type": "float"
        },
        {
         "name": "weight_diff",
         "rawType": "float64",
         "type": "float"
        },
        {
         "name": "Reach Difference (cm)",
         "rawType": "float64",
         "type": "float"
        },
        {
         "name": "SLpM Diff",
         "rawType": "float64",
         "type": "float"
        },
        {
         "name": "SApM Diff",
         "rawType": "float64",
         "type": "float"
        },
        {
         "name": "Sig Str Acc Diff",
         "rawType": "float64",
         "type": "float"
        },
        {
         "name": "TD Acc Diff",
         "rawType": "float64",
         "type": "float"
        },
        {
         "name": "Str Def Diff",
         "rawType": "float64",
         "type": "float"
        },
        {
         "name": "TD Def Diff",
         "rawType": "float64",
         "type": "float"
        },
        {
         "name": "Sub Avg Diff",
         "rawType": "float64",
         "type": "float"
        },
        {
         "name": "TD Avg Diff",
         "rawType": "float64",
         "type": "float"
        },
        {
         "name": "Red Stance_Open Stance",
         "rawType": "int64",
         "type": "integer"
        },
        {
         "name": "Red Stance_Orthodox",
         "rawType": "int64",
         "type": "integer"
        },
        {
         "name": "Red Stance_Southpaw",
         "rawType": "int64",
         "type": "integer"
        },
        {
         "name": "Red Stance_Switch",
         "rawType": "int64",
         "type": "integer"
        },
        {
         "name": "Blue Stance_Open Stance",
         "rawType": "int64",
         "type": "integer"
        },
        {
         "name": "Blue Stance_Orthodox",
         "rawType": "int64",
         "type": "integer"
        },
        {
         "name": "Blue Stance_Southpaw",
         "rawType": "int64",
         "type": "integer"
        },
        {
         "name": "Blue Stance_Switch",
         "rawType": "int64",
         "type": "integer"
        }
       ],
       "ref": "22249d36-e10c-49df-93be-b6d94ea5c8fd",
       "rows": [
        [
         "0",
         "Amanda Ribas",
         "Rose Namajunas",
         "0",
         "0",
         "12",
         "5",
         "30.0",
         "160.02",
         "56.7",
         "167.64",
         "4.63",
         "3.4",
         "0.4",
         "0.51",
         "0.61",
         "0.85",
         "0.7",
         "2.07",
         "13",
         "6",
         "31.0",
         "165.1",
         "56.7",
         "165.1",
         "3.69",
         "3.51",
         "0.41",
         "0.47",
         "0.63",
         "0.59",
         "0.5",
         "1.38",
         "-1",
         "-1",
         "-1.0",
         "-5.079999999999984",
         "0.0",
         "2.539999999999992",
         "0.94",
         "-0.1099999999999998",
         "-0.0099999999999999",
         "0.04",
         "-0.02",
         "0.26",
         "0.1999999999999999",
         "0.69",
         "0",
         "1",
         "0",
         "0",
         "0",
         "1",
         "0",
         "0"
        ],
        [
         "1",
         "Karl Williams",
         "Justin Tafa",
         "1",
         "0",
         "10",
         "1",
         "34.0",
         "190.5",
         "106.59",
         "200.66",
         "2.87",
         "1.7",
         "0.52",
         "0.5",
         "0.6",
         "1.0",
         "0.2",
         "4.75",
         "7",
         "4",
         "30.0",
         "182.88",
         "119.75",
         "187.96",
         "4.09",
         "5.02",
         "0.54",
         "0.0",
         "0.47",
         "0.5",
         "0.0",
         "0.0",
         "3",
         "-3",
         "4.0",
         "7.6200000000000045",
         "-13.159999999999997",
         "12.699999999999989",
         "-1.2199999999999998",
         "-3.3199999999999994",
         "-0.02",
         "0.5",
         "0.13",
         "0.5",
         "0.2",
         "4.75",
         "0",
         "1",
         "0",
         "0",
         "0",
         "0",
         "1",
         "0"
        ],
        [
         "2",
         "Edmen Shahbazyan",
         "AJ Dobson",
         "1",
         "0",
         "13",
         "4",
         "26.0",
         "187.96",
         "83.91",
         "190.5",
         "3.6",
         "4.09",
         "0.52",
         "0.38",
         "0.45",
         "0.63",
         "0.6",
         "2.24",
         "7",
         "3",
         "32.0",
         "185.42",
         "83.91",
         "193.04",
         "4.29",
         "5.31",
         "0.46",
         "0.75",
         "0.46",
         "0.65",
         "0.3",
         "1.67",
         "6",
         "1",
         "-6.0",
         "2.5400000000000205",
         "0.0",
         "-2.539999999999992",
         "-0.69",
         "-1.2199999999999998",
         "0.06",
         "-0.37",
         "-0.01",
         "-0.02",
         "0.3",
         "0.5700000000000003",
         "0",
         "1",
         "0",
         "0",
         "0",
         "1",
         "0",
         "0"
        ],
        [
         "3",
         "Payton Talbott",
         "Cameron Saaiman",
         "1",
         "0",
         "8",
         "0",
         "25.0",
         "177.8",
         "61.23",
         "177.8",
         "8.05",
         "3.58",
         "0.54",
         "0.0",
         "0.51",
         "0.9",
         "0.5",
         "0.0",
         "9",
         "2",
         "23.0",
         "172.72",
         "61.23",
         "170.18",
         "5.32",
         "4.18",
         "0.46",
         "0.28",
         "0.51",
         "0.47",
         "0.7",
         "0.91",
         "-1",
         "-2",
         "2.0",
         "5.0800000000000125",
         "0.0",
         "7.6200000000000045",
         "2.7300000000000004",
         "-0.5999999999999996",
         "0.08",
         "-0.28",
         "0.0",
         "0.43",
         "-0.1999999999999999",
         "-0.91",
         "0",
         "0",
         "0",
         "1",
         "0",
         "0",
         "1",
         "0"
        ],
        [
         "4",
         "Billy Quarantillo",
         "Youssef Zalal",
         "0",
         "0",
         "18",
         "6",
         "35.0",
         "177.8",
         "65.77",
         "177.8",
         "7.36",
         "5.57",
         "0.56",
         "0.23",
         "0.43",
         "0.61",
         "1.1",
         "1.24",
         "14",
         "5",
         "27.0",
         "177.8",
         "65.77",
         "182.88",
         "2.88",
         "1.73",
         "0.49",
         "0.34",
         "0.65",
         "0.6",
         "1.3",
         "2.28",
         "4",
         "1",
         "8.0",
         "0.0",
         "0.0",
         "-5.079999999999984",
         "4.48",
         "3.84",
         "0.07",
         "-0.11",
         "-0.22",
         "0.01",
         "-0.1999999999999999",
         "-1.0399999999999998",
         "0",
         "1",
         "0",
         "0",
         "0",
         "0",
         "0",
         "1"
        ]
       ],
       "shape": {
        "columns": 54,
        "rows": 5
       }
      },
      "text/html": [
       "<div>\n",
       "<style scoped>\n",
       "    .dataframe tbody tr th:only-of-type {\n",
       "        vertical-align: middle;\n",
       "    }\n",
       "\n",
       "    .dataframe tbody tr th {\n",
       "        vertical-align: top;\n",
       "    }\n",
       "\n",
       "    .dataframe thead th {\n",
       "        text-align: right;\n",
       "    }\n",
       "</style>\n",
       "<table border=\"1\" class=\"dataframe\">\n",
       "  <thead>\n",
       "    <tr style=\"text-align: right;\">\n",
       "      <th></th>\n",
       "      <th>Red Fighter</th>\n",
       "      <th>Blue Fighter</th>\n",
       "      <th>Winner = Red</th>\n",
       "      <th>Is Title Bout</th>\n",
       "      <th>r_wins_total</th>\n",
       "      <th>r_losses_total</th>\n",
       "      <th>r_age</th>\n",
       "      <th>r_height</th>\n",
       "      <th>r_weight</th>\n",
       "      <th>r_reach</th>\n",
       "      <th>...</th>\n",
       "      <th>Sub Avg Diff</th>\n",
       "      <th>TD Avg Diff</th>\n",
       "      <th>Red Stance_Open Stance</th>\n",
       "      <th>Red Stance_Orthodox</th>\n",
       "      <th>Red Stance_Southpaw</th>\n",
       "      <th>Red Stance_Switch</th>\n",
       "      <th>Blue Stance_Open Stance</th>\n",
       "      <th>Blue Stance_Orthodox</th>\n",
       "      <th>Blue Stance_Southpaw</th>\n",
       "      <th>Blue Stance_Switch</th>\n",
       "    </tr>\n",
       "  </thead>\n",
       "  <tbody>\n",
       "    <tr>\n",
       "      <th>0</th>\n",
       "      <td>Amanda Ribas</td>\n",
       "      <td>Rose Namajunas</td>\n",
       "      <td>0</td>\n",
       "      <td>0</td>\n",
       "      <td>12</td>\n",
       "      <td>5</td>\n",
       "      <td>30.0</td>\n",
       "      <td>160.02</td>\n",
       "      <td>56.70</td>\n",
       "      <td>167.64</td>\n",
       "      <td>...</td>\n",
       "      <td>0.2</td>\n",
       "      <td>0.69</td>\n",
       "      <td>0</td>\n",
       "      <td>1</td>\n",
       "      <td>0</td>\n",
       "      <td>0</td>\n",
       "      <td>0</td>\n",
       "      <td>1</td>\n",
       "      <td>0</td>\n",
       "      <td>0</td>\n",
       "    </tr>\n",
       "    <tr>\n",
       "      <th>1</th>\n",
       "      <td>Karl Williams</td>\n",
       "      <td>Justin Tafa</td>\n",
       "      <td>1</td>\n",
       "      <td>0</td>\n",
       "      <td>10</td>\n",
       "      <td>1</td>\n",
       "      <td>34.0</td>\n",
       "      <td>190.50</td>\n",
       "      <td>106.59</td>\n",
       "      <td>200.66</td>\n",
       "      <td>...</td>\n",
       "      <td>0.2</td>\n",
       "      <td>4.75</td>\n",
       "      <td>0</td>\n",
       "      <td>1</td>\n",
       "      <td>0</td>\n",
       "      <td>0</td>\n",
       "      <td>0</td>\n",
       "      <td>0</td>\n",
       "      <td>1</td>\n",
       "      <td>0</td>\n",
       "    </tr>\n",
       "    <tr>\n",
       "      <th>2</th>\n",
       "      <td>Edmen Shahbazyan</td>\n",
       "      <td>AJ Dobson</td>\n",
       "      <td>1</td>\n",
       "      <td>0</td>\n",
       "      <td>13</td>\n",
       "      <td>4</td>\n",
       "      <td>26.0</td>\n",
       "      <td>187.96</td>\n",
       "      <td>83.91</td>\n",
       "      <td>190.50</td>\n",
       "      <td>...</td>\n",
       "      <td>0.3</td>\n",
       "      <td>0.57</td>\n",
       "      <td>0</td>\n",
       "      <td>1</td>\n",
       "      <td>0</td>\n",
       "      <td>0</td>\n",
       "      <td>0</td>\n",
       "      <td>1</td>\n",
       "      <td>0</td>\n",
       "      <td>0</td>\n",
       "    </tr>\n",
       "    <tr>\n",
       "      <th>3</th>\n",
       "      <td>Payton Talbott</td>\n",
       "      <td>Cameron Saaiman</td>\n",
       "      <td>1</td>\n",
       "      <td>0</td>\n",
       "      <td>8</td>\n",
       "      <td>0</td>\n",
       "      <td>25.0</td>\n",
       "      <td>177.80</td>\n",
       "      <td>61.23</td>\n",
       "      <td>177.80</td>\n",
       "      <td>...</td>\n",
       "      <td>-0.2</td>\n",
       "      <td>-0.91</td>\n",
       "      <td>0</td>\n",
       "      <td>0</td>\n",
       "      <td>0</td>\n",
       "      <td>1</td>\n",
       "      <td>0</td>\n",
       "      <td>0</td>\n",
       "      <td>1</td>\n",
       "      <td>0</td>\n",
       "    </tr>\n",
       "    <tr>\n",
       "      <th>4</th>\n",
       "      <td>Billy Quarantillo</td>\n",
       "      <td>Youssef Zalal</td>\n",
       "      <td>0</td>\n",
       "      <td>0</td>\n",
       "      <td>18</td>\n",
       "      <td>6</td>\n",
       "      <td>35.0</td>\n",
       "      <td>177.80</td>\n",
       "      <td>65.77</td>\n",
       "      <td>177.80</td>\n",
       "      <td>...</td>\n",
       "      <td>-0.2</td>\n",
       "      <td>-1.04</td>\n",
       "      <td>0</td>\n",
       "      <td>1</td>\n",
       "      <td>0</td>\n",
       "      <td>0</td>\n",
       "      <td>0</td>\n",
       "      <td>0</td>\n",
       "      <td>0</td>\n",
       "      <td>1</td>\n",
       "    </tr>\n",
       "  </tbody>\n",
       "</table>\n",
       "<p>5 rows × 54 columns</p>\n",
       "</div>"
      ],
      "text/plain": [
       "         Red Fighter     Blue Fighter  Winner = Red  Is Title Bout  \\\n",
       "0       Amanda Ribas   Rose Namajunas             0              0   \n",
       "1      Karl Williams      Justin Tafa             1              0   \n",
       "2   Edmen Shahbazyan        AJ Dobson             1              0   \n",
       "3     Payton Talbott  Cameron Saaiman             1              0   \n",
       "4  Billy Quarantillo    Youssef Zalal             0              0   \n",
       "\n",
       "   r_wins_total  r_losses_total  r_age  r_height  r_weight  r_reach  ...  \\\n",
       "0            12               5   30.0    160.02     56.70   167.64  ...   \n",
       "1            10               1   34.0    190.50    106.59   200.66  ...   \n",
       "2            13               4   26.0    187.96     83.91   190.50  ...   \n",
       "3             8               0   25.0    177.80     61.23   177.80  ...   \n",
       "4            18               6   35.0    177.80     65.77   177.80  ...   \n",
       "\n",
       "   Sub Avg Diff  TD Avg Diff  Red Stance_Open Stance  Red Stance_Orthodox  \\\n",
       "0           0.2         0.69                       0                    1   \n",
       "1           0.2         4.75                       0                    1   \n",
       "2           0.3         0.57                       0                    1   \n",
       "3          -0.2        -0.91                       0                    0   \n",
       "4          -0.2        -1.04                       0                    1   \n",
       "\n",
       "   Red Stance_Southpaw  Red Stance_Switch  Blue Stance_Open Stance  \\\n",
       "0                    0                  0                        0   \n",
       "1                    0                  0                        0   \n",
       "2                    0                  0                        0   \n",
       "3                    0                  1                        0   \n",
       "4                    0                  0                        0   \n",
       "\n",
       "   Blue Stance_Orthodox  Blue Stance_Southpaw  Blue Stance_Switch  \n",
       "0                     1                     0                   0  \n",
       "1                     0                     1                   0  \n",
       "2                     1                     0                   0  \n",
       "3                     0                     1                   0  \n",
       "4                     0                     0                   1  \n",
       "\n",
       "[5 rows x 54 columns]"
      ]
     },
     "execution_count": 1147,
     "metadata": {},
     "output_type": "execute_result"
    }
   ],
   "source": [
    "all_fights.head()"
   ]
  },
  {
   "cell_type": "markdown",
   "id": "9049f17e",
   "metadata": {},
   "source": [
    "## 3. Exploratory Data Analysis"
   ]
  },
  {
   "cell_type": "code",
   "execution_count": 1148,
   "id": "d3ab1dd9",
   "metadata": {},
   "outputs": [
    {
     "name": "stdout",
     "output_type": "stream",
     "text": [
      "Total Fights: 6371\n",
      "Total Title Fights: 347\n",
      "Red Win Percentage: 0.619\n",
      "Champ Defense Percentage: 0.744\n"
     ]
    }
   ],
   "source": [
    "red_win_percentage = (all_fights['Winner = Red']).sum() / all_fights.shape[0]\n",
    "champ_defense_percentage = ((all_fights['Is Title Bout']) & (all_fights['Winner = Red'])).sum() / all_fights['Is Title Bout'].sum()\n",
    "\n",
    "print(f\"Total Fights: {all_fights.shape[0]}\")\n",
    "print(f\"Total Title Fights: {all_fights['Is Title Bout'].sum()}\")\n",
    "\n",
    "print(f\"Red Win Percentage: {red_win_percentage:.3f}\")\n",
    "print(f\"Champ Defense Percentage: {champ_defense_percentage:.3f}\")"
   ]
  },
  {
   "cell_type": "code",
   "execution_count": 1149,
   "id": "69044d97",
   "metadata": {},
   "outputs": [
    {
     "data": {
      "text/plain": [
       "Text(0.5, 0, 'Age Difference (years)')"
      ]
     },
     "execution_count": 1149,
     "metadata": {},
     "output_type": "execute_result"
    },
    {
     "data": {
      "image/png": "[encoded data removed]",
      "text/plain": [
       "<Figure size 640x480 with 1 Axes>"
      ]
     },
     "metadata": {},
     "output_type": "display_data"
    }
   ],
   "source": [
    "age_ax = all_fights['Age Difference'].plot(kind='hist',\n",
    "                                           bins=30,\n",
    "                                           title='Age Difference Distribution')\n",
    "age_ax.set_xlabel('Age Difference (years)')"
   ]
  },
  {
   "cell_type": "code",
   "execution_count": 1150,
   "id": "c9588d8f",
   "metadata": {},
   "outputs": [
    {
     "data": {
      "image/png": "[encoded data removed]",
      "text/plain": [
       "<Figure size 1200x1000 with 6 Axes>"
      ]
     },
     "metadata": {},
     "output_type": "display_data"
    }
   ],
   "source": [
    "fig, axes = plt.subplots(3, 2, figsize=(12, 10))\n",
    "\n",
    "# First plot\n",
    "all_fights.groupby('Age Difference')['Winner = Red'].sum().plot(ax=axes[0, 0], kind='line', title='Red Wins by Age Difference')\n",
    "\n",
    "# Second plot\n",
    "all_fights.groupby('Height Difference (cm)')['Winner = Red'].sum().plot(ax=axes[0, 1], kind='line', title='Red Wins by Height Difference')\n",
    "\n",
    "# Third plot\n",
    "all_fights.groupby('Reach Difference (cm)')['Winner = Red'].sum().plot(ax=axes[1, 0], kind='line', title='Red Wins by Reach Difference')\n",
    "\n",
    "# Fourth plot\n",
    "all_fights.groupby('SLpM Diff')['Winner = Red'].sum().plot(ax=axes[1, 1], kind='line', title='Red Wins by SLpM Diff')\n",
    "\n",
    "# Fifth plot\n",
    "all_fights.groupby('TD Avg Diff')['Winner = Red'].sum().plot(ax=axes[2, 0], kind='line', title='Red Wins by TD Diff')\n",
    "\n",
    "plt.tight_layout()\n",
    "plt.show()"
   ]
  },
  {
   "cell_type": "code",
   "execution_count": 1151,
   "id": "c67244e7",
   "metadata": {},
   "outputs": [
    {
     "name": "stdout",
     "output_type": "stream",
     "text": [
      "wins_total_diff            0.046486\n",
      "SLpM Diff                  0.044866\n",
      "b_SLpM_total               0.036296\n",
      "SApM Diff                  0.035996\n",
      "losses_total_diff          0.035495\n",
      "r_wins_total               0.033280\n",
      "b_age                      0.032619\n",
      "Sig Str Acc Diff           0.031101\n",
      "Age Difference             0.030572\n",
      "TD Avg Diff                0.028911\n",
      "b_losses_total             0.028830\n",
      "TD Def Diff                0.028584\n",
      "r_SApM_total               0.027505\n",
      "b_wins_total               0.025642\n",
      "r_SLpM_total               0.024498\n",
      "b_SApM_total               0.024440\n",
      "b_td_def_total             0.024253\n",
      "TD Acc Diff                0.023864\n",
      "Str Def Diff               0.023839\n",
      "r_td_avg                   0.022202\n",
      "r_losses_total             0.021744\n",
      "b_td_avg                   0.021425\n",
      "b_sig_str_acc_total        0.021054\n",
      "r_str_def_total            0.020651\n",
      "r_td_def_total             0.020601\n",
      "r_td_acc_total             0.020472\n",
      "r_sig_str_acc_total        0.020116\n",
      "b_td_acc_total             0.020033\n",
      "Sub Avg Diff               0.019771\n",
      "b_str_def_total            0.018980\n",
      "r_age                      0.018221\n",
      "Reach Difference (cm)      0.016087\n",
      "r_sub_avg                  0.015539\n",
      "Height Difference (cm)     0.015045\n",
      "r_reach                    0.014811\n",
      "b_reach                    0.014790\n",
      "b_sub_avg                  0.014625\n",
      "r_height                   0.014321\n",
      "b_height                   0.013317\n",
      "weight_diff                0.011735\n",
      "b_weight                   0.011042\n",
      "r_weight                   0.010760\n",
      "Red Stance_Southpaw        0.002883\n",
      "Blue Stance_Orthodox       0.002746\n",
      "Blue Stance_Southpaw       0.002647\n",
      "Is Title Bout              0.002368\n",
      "Red Stance_Orthodox        0.002330\n",
      "Blue Stance_Switch         0.001330\n",
      "Red Stance_Switch          0.001104\n",
      "Red Stance_Open Stance     0.000141\n",
      "Blue Stance_Open Stance    0.000034\n",
      "dtype: float64\n"
     ]
    }
   ],
   "source": [
    "\n",
    "X = all_fights.drop(columns=['Winner = Red', 'Red Fighter', 'Blue Fighter'])\n",
    "y = all_fights['Winner = Red']\n",
    "\n",
    "model = RandomForestClassifier()\n",
    "model.fit(X, y)\n",
    "importances = pd.Series(model.feature_importances_, index=X.columns)\n",
    "print(importances.sort_values(ascending=False))"
   ]
  }
 ],
 "metadata": {
  "kernelspec": {
   "display_name": "env",
   "language": "python",
   "name": "python3"
  },
  "language_info": {
   "codemirror_mode": {
    "name": "ipython",
    "version": 3
   },
   "file_extension": ".py",
   "mimetype": "text/x-python",
   "name": "python",
   "nbconvert_exporter": "python",
   "pygments_lexer": "ipython3",
   "version": "3.11.1"
  }
 },
 "nbformat": 4,
 "nbformat_minor": 5
}
