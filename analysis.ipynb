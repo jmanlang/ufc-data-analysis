{
 "cells": [
  {
   "cell_type": "markdown",
   "id": "c3339d9c",
   "metadata": {},
   "source": [
    "### Importing Pandas/Matplotlib and UFC Dataset from Kaggle"
   ]
  },
  {
   "cell_type": "code",
   "execution_count": 496,
   "id": "2fe4f56e",
   "metadata": {},
   "outputs": [],
   "source": [
    "import pandas as pd\n",
    "import matplotlib as mpl"
   ]
  },
  {
   "cell_type": "code",
   "execution_count": 497,
   "id": "5f159239",
   "metadata": {},
   "outputs": [
    {
     "data": {
      "application/vnd.microsoft.datawrangler.viewer.v0+json": {
       "columns": [
        {
         "name": "index",
         "rawType": "int64",
         "type": "integer"
        },
        {
         "name": "event_name",
         "rawType": "object",
         "type": "string"
        },
        {
         "name": "r_fighter",
         "rawType": "object",
         "type": "string"
        },
        {
         "name": "b_fighter",
         "rawType": "object",
         "type": "string"
        },
        {
         "name": "winner",
         "rawType": "object",
         "type": "string"
        },
        {
         "name": "weight_class",
         "rawType": "object",
         "type": "string"
        },
        {
         "name": "is_title_bout",
         "rawType": "int64",
         "type": "integer"
        },
        {
         "name": "gender",
         "rawType": "object",
         "type": "string"
        },
        {
         "name": "method",
         "rawType": "object",
         "type": "string"
        },
        {
         "name": "finish_round",
         "rawType": "int64",
         "type": "integer"
        },
        {
         "name": "total_rounds",
         "rawType": "float64",
         "type": "float"
        },
        {
         "name": "time_sec",
         "rawType": "int64",
         "type": "integer"
        },
        {
         "name": "referee",
         "rawType": "object",
         "type": "string"
        },
        {
         "name": "r_kd",
         "rawType": "int64",
         "type": "integer"
        },
        {
         "name": "r_sig_str",
         "rawType": "int64",
         "type": "integer"
        },
        {
         "name": "r_sig_str_att",
         "rawType": "int64",
         "type": "integer"
        },
        {
         "name": "r_sig_str_acc",
         "rawType": "float64",
         "type": "float"
        },
        {
         "name": "r_str",
         "rawType": "int64",
         "type": "integer"
        },
        {
         "name": "r_str_att",
         "rawType": "int64",
         "type": "integer"
        },
        {
         "name": "r_str_acc",
         "rawType": "float64",
         "type": "float"
        },
        {
         "name": "r_td",
         "rawType": "int64",
         "type": "integer"
        },
        {
         "name": "r_td_att",
         "rawType": "int64",
         "type": "integer"
        },
        {
         "name": "r_td_acc",
         "rawType": "float64",
         "type": "float"
        },
        {
         "name": "r_sub_att",
         "rawType": "int64",
         "type": "integer"
        },
        {
         "name": "r_rev",
         "rawType": "int64",
         "type": "integer"
        },
        {
         "name": "r_ctrl_sec",
         "rawType": "int64",
         "type": "integer"
        },
        {
         "name": "r_wins_total",
         "rawType": "int64",
         "type": "integer"
        },
        {
         "name": "r_losses_total",
         "rawType": "int64",
         "type": "integer"
        },
        {
         "name": "r_age",
         "rawType": "float64",
         "type": "float"
        },
        {
         "name": "r_height",
         "rawType": "float64",
         "type": "float"
        },
        {
         "name": "r_weight",
         "rawType": "float64",
         "type": "float"
        },
        {
         "name": "r_reach",
         "rawType": "float64",
         "type": "float"
        },
        {
         "name": "r_stance",
         "rawType": "object",
         "type": "string"
        },
        {
         "name": "r_SLpM_total",
         "rawType": "float64",
         "type": "float"
        },
        {
         "name": "r_SApM_total",
         "rawType": "float64",
         "type": "float"
        },
        {
         "name": "r_sig_str_acc_total",
         "rawType": "float64",
         "type": "float"
        },
        {
         "name": "r_td_acc_total",
         "rawType": "float64",
         "type": "float"
        },
        {
         "name": "r_str_def_total",
         "rawType": "float64",
         "type": "float"
        },
        {
         "name": "r_td_def_total",
         "rawType": "float64",
         "type": "float"
        },
        {
         "name": "r_sub_avg",
         "rawType": "float64",
         "type": "float"
        },
        {
         "name": "r_td_avg",
         "rawType": "float64",
         "type": "float"
        },
        {
         "name": "b_kd",
         "rawType": "int64",
         "type": "integer"
        },
        {
         "name": "b_sig_str",
         "rawType": "int64",
         "type": "integer"
        },
        {
         "name": "b_sig_str_att",
         "rawType": "int64",
         "type": "integer"
        },
        {
         "name": "b_sig_str_acc",
         "rawType": "float64",
         "type": "float"
        },
        {
         "name": "b_str",
         "rawType": "int64",
         "type": "integer"
        },
        {
         "name": "b_str_att",
         "rawType": "int64",
         "type": "integer"
        },
        {
         "name": "b_str_acc",
         "rawType": "float64",
         "type": "float"
        },
        {
         "name": "b_td",
         "rawType": "int64",
         "type": "integer"
        },
        {
         "name": "b_td_att",
         "rawType": "int64",
         "type": "integer"
        },
        {
         "name": "b_td_acc",
         "rawType": "float64",
         "type": "float"
        },
        {
         "name": "b_sub_att",
         "rawType": "int64",
         "type": "integer"
        },
        {
         "name": "b_rev",
         "rawType": "int64",
         "type": "integer"
        },
        {
         "name": "b_ctrl_sec",
         "rawType": "int64",
         "type": "integer"
        },
        {
         "name": "b_wins_total",
         "rawType": "int64",
         "type": "integer"
        },
        {
         "name": "b_losses_total",
         "rawType": "int64",
         "type": "integer"
        },
        {
         "name": "b_age",
         "rawType": "float64",
         "type": "float"
        },
        {
         "name": "b_height",
         "rawType": "float64",
         "type": "float"
        },
        {
         "name": "b_weight",
         "rawType": "float64",
         "type": "float"
        },
        {
         "name": "b_reach",
         "rawType": "float64",
         "type": "float"
        },
        {
         "name": "b_stance",
         "rawType": "object",
         "type": "string"
        },
        {
         "name": "b_SLpM_total",
         "rawType": "float64",
         "type": "float"
        },
        {
         "name": "b_SApM_total",
         "rawType": "float64",
         "type": "float"
        },
        {
         "name": "b_sig_str_acc_total",
         "rawType": "float64",
         "type": "float"
        },
        {
         "name": "b_td_acc_total",
         "rawType": "float64",
         "type": "float"
        },
        {
         "name": "b_str_def_total",
         "rawType": "float64",
         "type": "float"
        },
        {
         "name": "b_td_def_total",
         "rawType": "float64",
         "type": "float"
        },
        {
         "name": "b_sub_avg",
         "rawType": "float64",
         "type": "float"
        },
        {
         "name": "b_td_avg",
         "rawType": "float64",
         "type": "float"
        },
        {
         "name": "kd_diff",
         "rawType": "int64",
         "type": "integer"
        },
        {
         "name": "sig_str_diff",
         "rawType": "int64",
         "type": "integer"
        },
        {
         "name": "sig_str_att_diff",
         "rawType": "int64",
         "type": "integer"
        },
        {
         "name": "sig_str_acc_diff",
         "rawType": "float64",
         "type": "float"
        },
        {
         "name": "str_diff",
         "rawType": "int64",
         "type": "integer"
        },
        {
         "name": "str_att_diff",
         "rawType": "int64",
         "type": "integer"
        },
        {
         "name": "str_acc_diff",
         "rawType": "float64",
         "type": "float"
        },
        {
         "name": "td_diff",
         "rawType": "int64",
         "type": "integer"
        },
        {
         "name": "td_att_diff",
         "rawType": "int64",
         "type": "integer"
        },
        {
         "name": "td_acc_diff",
         "rawType": "float64",
         "type": "float"
        },
        {
         "name": "sub_att_diff",
         "rawType": "int64",
         "type": "integer"
        },
        {
         "name": "rev_diff",
         "rawType": "int64",
         "type": "integer"
        },
        {
         "name": "ctrl_sec_diff",
         "rawType": "int64",
         "type": "integer"
        },
        {
         "name": "wins_total_diff",
         "rawType": "int64",
         "type": "integer"
        },
        {
         "name": "losses_total_diff",
         "rawType": "int64",
         "type": "integer"
        },
        {
         "name": "age_diff",
         "rawType": "float64",
         "type": "float"
        },
        {
         "name": "height_diff",
         "rawType": "float64",
         "type": "float"
        },
        {
         "name": "weight_diff",
         "rawType": "float64",
         "type": "float"
        },
        {
         "name": "reach_diff",
         "rawType": "float64",
         "type": "float"
        },
        {
         "name": "SLpM_total_diff",
         "rawType": "float64",
         "type": "float"
        },
        {
         "name": "SApM_total_diff",
         "rawType": "float64",
         "type": "float"
        },
        {
         "name": "sig_str_acc_total_diff",
         "rawType": "float64",
         "type": "float"
        },
        {
         "name": "td_acc_total_diff",
         "rawType": "float64",
         "type": "float"
        },
        {
         "name": "str_def_total_diff",
         "rawType": "float64",
         "type": "float"
        },
        {
         "name": "td_def_total_diff",
         "rawType": "float64",
         "type": "float"
        },
        {
         "name": "sub_avg_diff",
         "rawType": "float64",
         "type": "float"
        },
        {
         "name": "td_avg_diff",
         "rawType": "float64",
         "type": "float"
        }
       ],
       "ref": "0418b915-4456-49d3-93eb-2e7ca27adf4b",
       "rows": [
        [
         "0",
         "UFC Fight Night: Ribas vs. Namajunas",
         "Amanda Ribas",
         "Rose Namajunas",
         "Blue",
         "Women's Flyweight",
         "0",
         "Women",
         "Decision - Unanimous",
         "5",
         "5.0",
         "300",
         "Jason Herzog",
         "0",
         "83",
         "270",
         "0.3",
         "137",
         "342",
         "0.4",
         "4",
         "8",
         "0.5",
         "0",
         "0",
         "98",
         "12",
         "5",
         "30.0",
         "160.02",
         "56.7",
         "167.64",
         "Orthodox",
         "4.63",
         "3.4",
         "0.4",
         "0.51",
         "0.61",
         "0.85",
         "0.7",
         "2.07",
         "0",
         "93",
         "188",
         "0.49",
         "169",
         "281",
         "0.6",
         "1",
         "3",
         "0.33",
         "0",
         "1",
         "419",
         "13",
         "6",
         "31.0",
         "165.1",
         "56.7",
         "165.1",
         "Orthodox",
         "3.69",
         "3.51",
         "0.41",
         "0.47",
         "0.63",
         "0.59",
         "0.5",
         "1.38",
         "0",
         "-10",
         "82",
         "-0.19",
         "-32",
         "61",
         "-0.1999999999999999",
         "3",
         "5",
         "0.1699999999999999",
         "0",
         "-1",
         "-321",
         "-1",
         "-1",
         "-1.0",
         "-5.079999999999984",
         "0.0",
         "2.539999999999992",
         "0.94",
         "-0.1099999999999998",
         "-0.0099999999999999",
         "0.04",
         "-0.02",
         "0.26",
         "0.1999999999999999",
         "0.69"
        ],
        [
         "1",
         "UFC Fight Night: Ribas vs. Namajunas",
         "Karl Williams",
         "Justin Tafa",
         "Red",
         "Heavyweight",
         "0",
         "Men",
         "Decision - Unanimous",
         "3",
         "3.0",
         "300",
         "Herb Dean",
         "0",
         "40",
         "61",
         "0.65",
         "123",
         "176",
         "0.7",
         "7",
         "12",
         "0.58",
         "1",
         "0",
         "631",
         "10",
         "1",
         "34.0",
         "190.5",
         "106.59",
         "200.66",
         "Orthodox",
         "2.87",
         "1.7",
         "0.52",
         "0.5",
         "0.6",
         "1.0",
         "0.2",
         "4.75",
         "0",
         "21",
         "43",
         "0.48",
         "27",
         "50",
         "0.54",
         "0",
         "0",
         "0.0",
         "0",
         "0",
         "0",
         "7",
         "4",
         "30.0",
         "182.88",
         "119.75",
         "187.96",
         "Southpaw",
         "4.09",
         "5.02",
         "0.54",
         "0.0",
         "0.47",
         "0.5",
         "0.0",
         "0.0",
         "0",
         "19",
         "18",
         "0.17",
         "96",
         "126",
         "0.1599999999999999",
         "7",
         "12",
         "0.58",
         "1",
         "0",
         "631",
         "3",
         "-3",
         "4.0",
         "7.6200000000000045",
         "-13.159999999999997",
         "12.699999999999989",
         "-1.2199999999999998",
         "-3.3199999999999994",
         "-0.02",
         "0.5",
         "0.13",
         "0.5",
         "0.2",
         "4.75"
        ],
        [
         "2",
         "UFC Fight Night: Ribas vs. Namajunas",
         "Edmen Shahbazyan",
         "AJ Dobson",
         "Red",
         "Middleweight",
         "0",
         "Men",
         "KO/TKO",
         "1",
         "3.0",
         "273",
         "Mark Smith",
         "1",
         "27",
         "43",
         "0.62",
         "31",
         "51",
         "0.61",
         "1",
         "3",
         "0.33",
         "0",
         "0",
         "49",
         "13",
         "4",
         "26.0",
         "187.96",
         "83.91",
         "190.5",
         "Orthodox",
         "3.6",
         "4.09",
         "0.52",
         "0.38",
         "0.45",
         "0.63",
         "0.6",
         "2.24",
         "0",
         "15",
         "46",
         "0.32",
         "20",
         "54",
         "0.37",
         "0",
         "0",
         "0.0",
         "0",
         "1",
         "75",
         "7",
         "3",
         "32.0",
         "185.42",
         "83.91",
         "193.04",
         "Orthodox",
         "4.29",
         "5.31",
         "0.46",
         "0.75",
         "0.46",
         "0.65",
         "0.3",
         "1.67",
         "1",
         "12",
         "-3",
         "0.3",
         "11",
         "-3",
         "0.24",
         "1",
         "3",
         "0.33",
         "0",
         "-1",
         "-26",
         "6",
         "1",
         "-6.0",
         "2.5400000000000205",
         "0.0",
         "-2.539999999999992",
         "-0.69",
         "-1.2199999999999998",
         "0.06",
         "-0.37",
         "-0.01",
         "-0.02",
         "0.3",
         "0.5700000000000003"
        ],
        [
         "3",
         "UFC Fight Night: Ribas vs. Namajunas",
         "Payton Talbott",
         "Cameron Saaiman",
         "Red",
         "Bantamweight",
         "0",
         "Men",
         "KO/TKO",
         "2",
         "3.0",
         "21",
         "Chris Tognoni",
         "1",
         "79",
         "129",
         "0.61",
         "83",
         "135",
         "0.61",
         "0",
         "1",
         "0.0",
         "0",
         "0",
         "30",
         "8",
         "0",
         "25.0",
         "177.8",
         "61.23",
         "177.8",
         "Switch",
         "8.05",
         "3.58",
         "0.54",
         "0.0",
         "0.51",
         "0.9",
         "0.5",
         "0.0",
         "0",
         "31",
         "64",
         "0.48",
         "33",
         "66",
         "0.5",
         "0",
         "3",
         "0.0",
         "0",
         "0",
         "0",
         "9",
         "2",
         "23.0",
         "172.72",
         "61.23",
         "170.18",
         "Southpaw",
         "5.32",
         "4.18",
         "0.46",
         "0.28",
         "0.51",
         "0.47",
         "0.7",
         "0.91",
         "1",
         "48",
         "65",
         "0.13",
         "50",
         "69",
         "0.1099999999999999",
         "0",
         "-2",
         "0.0",
         "0",
         "0",
         "30",
         "-1",
         "-2",
         "2.0",
         "5.0800000000000125",
         "0.0",
         "7.6200000000000045",
         "2.7300000000000004",
         "-0.5999999999999996",
         "0.08",
         "-0.28",
         "0.0",
         "0.43",
         "-0.1999999999999999",
         "-0.91"
        ],
        [
         "4",
         "UFC Fight Night: Ribas vs. Namajunas",
         "Billy Quarantillo",
         "Youssef Zalal",
         "Blue",
         "Featherweight",
         "0",
         "Men",
         "Submission",
         "2",
         "3.0",
         "110",
         "Herb Dean",
         "0",
         "10",
         "50",
         "0.2",
         "26",
         "74",
         "0.35",
         "0",
         "0",
         "0.0",
         "0",
         "0",
         "21",
         "18",
         "6",
         "35.0",
         "177.8",
         "65.77",
         "177.8",
         "Orthodox",
         "7.36",
         "5.57",
         "0.56",
         "0.23",
         "0.43",
         "0.61",
         "1.1",
         "1.24",
         "0",
         "33",
         "56",
         "0.58",
         "37",
         "62",
         "0.6",
         "2",
         "2",
         "1.0",
         "2",
         "0",
         "175",
         "14",
         "5",
         "27.0",
         "177.8",
         "65.77",
         "182.88",
         "Switch",
         "2.88",
         "1.73",
         "0.49",
         "0.34",
         "0.65",
         "0.6",
         "1.3",
         "2.28",
         "0",
         "-23",
         "-6",
         "-0.3799999999999999",
         "-11",
         "12",
         "-0.25",
         "-2",
         "-2",
         "-1.0",
         "-2",
         "0",
         "-154",
         "4",
         "1",
         "8.0",
         "0.0",
         "0.0",
         "-5.079999999999984",
         "4.48",
         "3.84",
         "0.07",
         "-0.11",
         "-0.22",
         "0.01",
         "-0.1999999999999999",
         "-1.0399999999999998"
        ]
       ],
       "shape": {
        "columns": 95,
        "rows": 5
       }
      },
      "text/html": [
       "<div>\n",
       "<style scoped>\n",
       "    .dataframe tbody tr th:only-of-type {\n",
       "        vertical-align: middle;\n",
       "    }\n",
       "\n",
       "    .dataframe tbody tr th {\n",
       "        vertical-align: top;\n",
       "    }\n",
       "\n",
       "    .dataframe thead th {\n",
       "        text-align: right;\n",
       "    }\n",
       "</style>\n",
       "<table border=\"1\" class=\"dataframe\">\n",
       "  <thead>\n",
       "    <tr style=\"text-align: right;\">\n",
       "      <th></th>\n",
       "      <th>event_name</th>\n",
       "      <th>r_fighter</th>\n",
       "      <th>b_fighter</th>\n",
       "      <th>winner</th>\n",
       "      <th>weight_class</th>\n",
       "      <th>is_title_bout</th>\n",
       "      <th>gender</th>\n",
       "      <th>method</th>\n",
       "      <th>finish_round</th>\n",
       "      <th>total_rounds</th>\n",
       "      <th>...</th>\n",
       "      <th>weight_diff</th>\n",
       "      <th>reach_diff</th>\n",
       "      <th>SLpM_total_diff</th>\n",
       "      <th>SApM_total_diff</th>\n",
       "      <th>sig_str_acc_total_diff</th>\n",
       "      <th>td_acc_total_diff</th>\n",
       "      <th>str_def_total_diff</th>\n",
       "      <th>td_def_total_diff</th>\n",
       "      <th>sub_avg_diff</th>\n",
       "      <th>td_avg_diff</th>\n",
       "    </tr>\n",
       "  </thead>\n",
       "  <tbody>\n",
       "    <tr>\n",
       "      <th>0</th>\n",
       "      <td>UFC Fight Night: Ribas vs. Namajunas</td>\n",
       "      <td>Amanda Ribas</td>\n",
       "      <td>Rose Namajunas</td>\n",
       "      <td>Blue</td>\n",
       "      <td>Women's Flyweight</td>\n",
       "      <td>0</td>\n",
       "      <td>Women</td>\n",
       "      <td>Decision - Unanimous</td>\n",
       "      <td>5</td>\n",
       "      <td>5.0</td>\n",
       "      <td>...</td>\n",
       "      <td>0.00</td>\n",
       "      <td>2.54</td>\n",
       "      <td>0.94</td>\n",
       "      <td>-0.11</td>\n",
       "      <td>-0.01</td>\n",
       "      <td>0.04</td>\n",
       "      <td>-0.02</td>\n",
       "      <td>0.26</td>\n",
       "      <td>0.2</td>\n",
       "      <td>0.69</td>\n",
       "    </tr>\n",
       "    <tr>\n",
       "      <th>1</th>\n",
       "      <td>UFC Fight Night: Ribas vs. Namajunas</td>\n",
       "      <td>Karl Williams</td>\n",
       "      <td>Justin Tafa</td>\n",
       "      <td>Red</td>\n",
       "      <td>Heavyweight</td>\n",
       "      <td>0</td>\n",
       "      <td>Men</td>\n",
       "      <td>Decision - Unanimous</td>\n",
       "      <td>3</td>\n",
       "      <td>3.0</td>\n",
       "      <td>...</td>\n",
       "      <td>-13.16</td>\n",
       "      <td>12.70</td>\n",
       "      <td>-1.22</td>\n",
       "      <td>-3.32</td>\n",
       "      <td>-0.02</td>\n",
       "      <td>0.50</td>\n",
       "      <td>0.13</td>\n",
       "      <td>0.50</td>\n",
       "      <td>0.2</td>\n",
       "      <td>4.75</td>\n",
       "    </tr>\n",
       "    <tr>\n",
       "      <th>2</th>\n",
       "      <td>UFC Fight Night: Ribas vs. Namajunas</td>\n",
       "      <td>Edmen Shahbazyan</td>\n",
       "      <td>AJ Dobson</td>\n",
       "      <td>Red</td>\n",
       "      <td>Middleweight</td>\n",
       "      <td>0</td>\n",
       "      <td>Men</td>\n",
       "      <td>KO/TKO</td>\n",
       "      <td>1</td>\n",
       "      <td>3.0</td>\n",
       "      <td>...</td>\n",
       "      <td>0.00</td>\n",
       "      <td>-2.54</td>\n",
       "      <td>-0.69</td>\n",
       "      <td>-1.22</td>\n",
       "      <td>0.06</td>\n",
       "      <td>-0.37</td>\n",
       "      <td>-0.01</td>\n",
       "      <td>-0.02</td>\n",
       "      <td>0.3</td>\n",
       "      <td>0.57</td>\n",
       "    </tr>\n",
       "    <tr>\n",
       "      <th>3</th>\n",
       "      <td>UFC Fight Night: Ribas vs. Namajunas</td>\n",
       "      <td>Payton Talbott</td>\n",
       "      <td>Cameron Saaiman</td>\n",
       "      <td>Red</td>\n",
       "      <td>Bantamweight</td>\n",
       "      <td>0</td>\n",
       "      <td>Men</td>\n",
       "      <td>KO/TKO</td>\n",
       "      <td>2</td>\n",
       "      <td>3.0</td>\n",
       "      <td>...</td>\n",
       "      <td>0.00</td>\n",
       "      <td>7.62</td>\n",
       "      <td>2.73</td>\n",
       "      <td>-0.60</td>\n",
       "      <td>0.08</td>\n",
       "      <td>-0.28</td>\n",
       "      <td>0.00</td>\n",
       "      <td>0.43</td>\n",
       "      <td>-0.2</td>\n",
       "      <td>-0.91</td>\n",
       "    </tr>\n",
       "    <tr>\n",
       "      <th>4</th>\n",
       "      <td>UFC Fight Night: Ribas vs. Namajunas</td>\n",
       "      <td>Billy Quarantillo</td>\n",
       "      <td>Youssef Zalal</td>\n",
       "      <td>Blue</td>\n",
       "      <td>Featherweight</td>\n",
       "      <td>0</td>\n",
       "      <td>Men</td>\n",
       "      <td>Submission</td>\n",
       "      <td>2</td>\n",
       "      <td>3.0</td>\n",
       "      <td>...</td>\n",
       "      <td>0.00</td>\n",
       "      <td>-5.08</td>\n",
       "      <td>4.48</td>\n",
       "      <td>3.84</td>\n",
       "      <td>0.07</td>\n",
       "      <td>-0.11</td>\n",
       "      <td>-0.22</td>\n",
       "      <td>0.01</td>\n",
       "      <td>-0.2</td>\n",
       "      <td>-1.04</td>\n",
       "    </tr>\n",
       "  </tbody>\n",
       "</table>\n",
       "<p>5 rows × 95 columns</p>\n",
       "</div>"
      ],
      "text/plain": [
       "                             event_name          r_fighter        b_fighter  \\\n",
       "0  UFC Fight Night: Ribas vs. Namajunas       Amanda Ribas   Rose Namajunas   \n",
       "1  UFC Fight Night: Ribas vs. Namajunas      Karl Williams      Justin Tafa   \n",
       "2  UFC Fight Night: Ribas vs. Namajunas   Edmen Shahbazyan        AJ Dobson   \n",
       "3  UFC Fight Night: Ribas vs. Namajunas     Payton Talbott  Cameron Saaiman   \n",
       "4  UFC Fight Night: Ribas vs. Namajunas  Billy Quarantillo    Youssef Zalal   \n",
       "\n",
       "  winner       weight_class  is_title_bout gender                method  \\\n",
       "0   Blue  Women's Flyweight              0  Women  Decision - Unanimous   \n",
       "1    Red        Heavyweight              0    Men  Decision - Unanimous   \n",
       "2    Red       Middleweight              0    Men                KO/TKO   \n",
       "3    Red       Bantamweight              0    Men                KO/TKO   \n",
       "4   Blue      Featherweight              0    Men            Submission   \n",
       "\n",
       "   finish_round  total_rounds  ...  weight_diff reach_diff  SLpM_total_diff  \\\n",
       "0             5           5.0  ...         0.00       2.54             0.94   \n",
       "1             3           3.0  ...       -13.16      12.70            -1.22   \n",
       "2             1           3.0  ...         0.00      -2.54            -0.69   \n",
       "3             2           3.0  ...         0.00       7.62             2.73   \n",
       "4             2           3.0  ...         0.00      -5.08             4.48   \n",
       "\n",
       "   SApM_total_diff  sig_str_acc_total_diff  td_acc_total_diff  \\\n",
       "0            -0.11                   -0.01               0.04   \n",
       "1            -3.32                   -0.02               0.50   \n",
       "2            -1.22                    0.06              -0.37   \n",
       "3            -0.60                    0.08              -0.28   \n",
       "4             3.84                    0.07              -0.11   \n",
       "\n",
       "   str_def_total_diff  td_def_total_diff  sub_avg_diff  td_avg_diff  \n",
       "0               -0.02               0.26           0.2         0.69  \n",
       "1                0.13               0.50           0.2         4.75  \n",
       "2               -0.01              -0.02           0.3         0.57  \n",
       "3                0.00               0.43          -0.2        -0.91  \n",
       "4               -0.22               0.01          -0.2        -1.04  \n",
       "\n",
       "[5 rows x 95 columns]"
      ]
     },
     "execution_count": 497,
     "metadata": {},
     "output_type": "execute_result"
    }
   ],
   "source": [
    "all_fights = pd.read_csv('UFC dataset/Large set/large_dataset.csv')\n",
    "all_fights.head()"
   ]
  },
  {
   "cell_type": "code",
   "execution_count": 498,
   "id": "fcbfb897",
   "metadata": {},
   "outputs": [
    {
     "data": {
      "application/vnd.microsoft.datawrangler.viewer.v0+json": {
       "columns": [
        {
         "name": "index",
         "rawType": "int64",
         "type": "integer"
        },
        {
         "name": "name",
         "rawType": "object",
         "type": "string"
        },
        {
         "name": "wins",
         "rawType": "float64",
         "type": "float"
        },
        {
         "name": "losses",
         "rawType": "float64",
         "type": "float"
        },
        {
         "name": "height",
         "rawType": "float64",
         "type": "float"
        },
        {
         "name": "weight",
         "rawType": "float64",
         "type": "float"
        },
        {
         "name": "reach",
         "rawType": "float64",
         "type": "float"
        },
        {
         "name": "stance",
         "rawType": "object",
         "type": "string"
        },
        {
         "name": "age",
         "rawType": "float64",
         "type": "float"
        },
        {
         "name": "SLpM",
         "rawType": "float64",
         "type": "float"
        },
        {
         "name": "sig_str_acc",
         "rawType": "float64",
         "type": "float"
        },
        {
         "name": "SApM",
         "rawType": "float64",
         "type": "float"
        },
        {
         "name": "str_def",
         "rawType": "float64",
         "type": "float"
        },
        {
         "name": "td_avg",
         "rawType": "float64",
         "type": "float"
        },
        {
         "name": "td_acc",
         "rawType": "float64",
         "type": "float"
        },
        {
         "name": "td_def",
         "rawType": "float64",
         "type": "float"
        },
        {
         "name": "sub_avg",
         "rawType": "float64",
         "type": "float"
        }
       ],
       "ref": "d113547f-36d7-45ee-945e-98a0be69a47c",
       "rows": [
        [
         "0",
         "Amanda Ribas",
         "12.0",
         "5.0",
         "160.02",
         "56.7",
         "167.64",
         "Orthodox",
         "30.0",
         "4.63",
         "0.4",
         "3.4",
         "0.61",
         "2.07",
         "0.51",
         "0.85",
         "0.7"
        ],
        [
         "1",
         "Rose Namajunas",
         "13.0",
         "6.0",
         "165.1",
         "56.7",
         "165.1",
         "Orthodox",
         "31.0",
         "3.69",
         "0.41",
         "3.51",
         "0.63",
         "1.38",
         "0.47",
         "0.59",
         "0.5"
        ],
        [
         "2",
         "Karl Williams",
         "10.0",
         "1.0",
         "190.5",
         "106.59",
         "200.66",
         "Orthodox",
         "34.0",
         "2.87",
         "0.52",
         "1.7",
         "0.6",
         "4.75",
         "0.5",
         "1.0",
         "0.2"
        ],
        [
         "3",
         "Justin Tafa",
         "7.0",
         "4.0",
         "182.88",
         "119.75",
         "187.96",
         "Southpaw",
         "30.0",
         "4.09",
         "0.54",
         "5.02",
         "0.47",
         "0.0",
         "0.0",
         "0.5",
         "0.0"
        ],
        [
         "4",
         "Edmen Shahbazyan",
         "13.0",
         "4.0",
         "187.96",
         "83.91",
         "190.5",
         "Orthodox",
         "26.0",
         "3.6",
         "0.52",
         "4.09",
         "0.45",
         "2.24",
         "0.38",
         "0.63",
         "0.6"
        ]
       ],
       "shape": {
        "columns": 16,
        "rows": 5
       }
      },
      "text/html": [
       "<div>\n",
       "<style scoped>\n",
       "    .dataframe tbody tr th:only-of-type {\n",
       "        vertical-align: middle;\n",
       "    }\n",
       "\n",
       "    .dataframe tbody tr th {\n",
       "        vertical-align: top;\n",
       "    }\n",
       "\n",
       "    .dataframe thead th {\n",
       "        text-align: right;\n",
       "    }\n",
       "</style>\n",
       "<table border=\"1\" class=\"dataframe\">\n",
       "  <thead>\n",
       "    <tr style=\"text-align: right;\">\n",
       "      <th></th>\n",
       "      <th>name</th>\n",
       "      <th>wins</th>\n",
       "      <th>losses</th>\n",
       "      <th>height</th>\n",
       "      <th>weight</th>\n",
       "      <th>reach</th>\n",
       "      <th>stance</th>\n",
       "      <th>age</th>\n",
       "      <th>SLpM</th>\n",
       "      <th>sig_str_acc</th>\n",
       "      <th>SApM</th>\n",
       "      <th>str_def</th>\n",
       "      <th>td_avg</th>\n",
       "      <th>td_acc</th>\n",
       "      <th>td_def</th>\n",
       "      <th>sub_avg</th>\n",
       "    </tr>\n",
       "  </thead>\n",
       "  <tbody>\n",
       "    <tr>\n",
       "      <th>0</th>\n",
       "      <td>Amanda Ribas</td>\n",
       "      <td>12.0</td>\n",
       "      <td>5.0</td>\n",
       "      <td>160.02</td>\n",
       "      <td>56.70</td>\n",
       "      <td>167.64</td>\n",
       "      <td>Orthodox</td>\n",
       "      <td>30.0</td>\n",
       "      <td>4.63</td>\n",
       "      <td>0.40</td>\n",
       "      <td>3.40</td>\n",
       "      <td>0.61</td>\n",
       "      <td>2.07</td>\n",
       "      <td>0.51</td>\n",
       "      <td>0.85</td>\n",
       "      <td>0.7</td>\n",
       "    </tr>\n",
       "    <tr>\n",
       "      <th>1</th>\n",
       "      <td>Rose Namajunas</td>\n",
       "      <td>13.0</td>\n",
       "      <td>6.0</td>\n",
       "      <td>165.10</td>\n",
       "      <td>56.70</td>\n",
       "      <td>165.10</td>\n",
       "      <td>Orthodox</td>\n",
       "      <td>31.0</td>\n",
       "      <td>3.69</td>\n",
       "      <td>0.41</td>\n",
       "      <td>3.51</td>\n",
       "      <td>0.63</td>\n",
       "      <td>1.38</td>\n",
       "      <td>0.47</td>\n",
       "      <td>0.59</td>\n",
       "      <td>0.5</td>\n",
       "    </tr>\n",
       "    <tr>\n",
       "      <th>2</th>\n",
       "      <td>Karl Williams</td>\n",
       "      <td>10.0</td>\n",
       "      <td>1.0</td>\n",
       "      <td>190.50</td>\n",
       "      <td>106.59</td>\n",
       "      <td>200.66</td>\n",
       "      <td>Orthodox</td>\n",
       "      <td>34.0</td>\n",
       "      <td>2.87</td>\n",
       "      <td>0.52</td>\n",
       "      <td>1.70</td>\n",
       "      <td>0.60</td>\n",
       "      <td>4.75</td>\n",
       "      <td>0.50</td>\n",
       "      <td>1.00</td>\n",
       "      <td>0.2</td>\n",
       "    </tr>\n",
       "    <tr>\n",
       "      <th>3</th>\n",
       "      <td>Justin Tafa</td>\n",
       "      <td>7.0</td>\n",
       "      <td>4.0</td>\n",
       "      <td>182.88</td>\n",
       "      <td>119.75</td>\n",
       "      <td>187.96</td>\n",
       "      <td>Southpaw</td>\n",
       "      <td>30.0</td>\n",
       "      <td>4.09</td>\n",
       "      <td>0.54</td>\n",
       "      <td>5.02</td>\n",
       "      <td>0.47</td>\n",
       "      <td>0.00</td>\n",
       "      <td>0.00</td>\n",
       "      <td>0.50</td>\n",
       "      <td>0.0</td>\n",
       "    </tr>\n",
       "    <tr>\n",
       "      <th>4</th>\n",
       "      <td>Edmen Shahbazyan</td>\n",
       "      <td>13.0</td>\n",
       "      <td>4.0</td>\n",
       "      <td>187.96</td>\n",
       "      <td>83.91</td>\n",
       "      <td>190.50</td>\n",
       "      <td>Orthodox</td>\n",
       "      <td>26.0</td>\n",
       "      <td>3.60</td>\n",
       "      <td>0.52</td>\n",
       "      <td>4.09</td>\n",
       "      <td>0.45</td>\n",
       "      <td>2.24</td>\n",
       "      <td>0.38</td>\n",
       "      <td>0.63</td>\n",
       "      <td>0.6</td>\n",
       "    </tr>\n",
       "  </tbody>\n",
       "</table>\n",
       "</div>"
      ],
      "text/plain": [
       "               name  wins  losses  height  weight   reach    stance   age  \\\n",
       "0      Amanda Ribas  12.0     5.0  160.02   56.70  167.64  Orthodox  30.0   \n",
       "1    Rose Namajunas  13.0     6.0  165.10   56.70  165.10  Orthodox  31.0   \n",
       "2     Karl Williams  10.0     1.0  190.50  106.59  200.66  Orthodox  34.0   \n",
       "3       Justin Tafa   7.0     4.0  182.88  119.75  187.96  Southpaw  30.0   \n",
       "4  Edmen Shahbazyan  13.0     4.0  187.96   83.91  190.50  Orthodox  26.0   \n",
       "\n",
       "   SLpM  sig_str_acc  SApM  str_def  td_avg  td_acc  td_def  sub_avg  \n",
       "0  4.63         0.40  3.40     0.61    2.07    0.51    0.85      0.7  \n",
       "1  3.69         0.41  3.51     0.63    1.38    0.47    0.59      0.5  \n",
       "2  2.87         0.52  1.70     0.60    4.75    0.50    1.00      0.2  \n",
       "3  4.09         0.54  5.02     0.47    0.00    0.00    0.50      0.0  \n",
       "4  3.60         0.52  4.09     0.45    2.24    0.38    0.63      0.6  "
      ]
     },
     "execution_count": 498,
     "metadata": {},
     "output_type": "execute_result"
    }
   ],
   "source": [
    "fighter_data = pd.read_csv('UFC dataset/Fighter stats/fighter_stats.csv')\n",
    "fighter_data.head()"
   ]
  },
  {
   "cell_type": "markdown",
   "id": "a82f6e0f",
   "metadata": {},
   "source": [
    "## Data Munging\n",
    "### First, we will drop duplicate rows. Then we will look for any null values"
   ]
  },
  {
   "cell_type": "code",
   "execution_count": 499,
   "id": "b8c213b2",
   "metadata": {},
   "outputs": [],
   "source": [
    "# Remove duplicates\n",
    "all_fights.drop_duplicates(inplace=True)\n",
    "fighter_data.drop_duplicates(inplace=True)"
   ]
  },
  {
   "cell_type": "code",
   "execution_count": 500,
   "id": "c7370173",
   "metadata": {},
   "outputs": [],
   "source": [
    "# For colummns with null values, find ratio of null entries to total entries\n",
    "def print_null_ratios(df):\n",
    "    for col in df.columns:\n",
    "        total_nulls = df[col].isnull().sum()\n",
    "        ratio = total_nulls / df.shape[0]\n",
    "        if total_nulls > 0:\n",
    "            print(f\"{col:<25} {total_nulls:<15} {ratio:<8.3f}\")"
   ]
  },
  {
   "cell_type": "code",
   "execution_count": 501,
   "id": "79aba5d1",
   "metadata": {},
   "outputs": [
    {
     "name": "stdout",
     "output_type": "stream",
     "text": [
      "Column:                   Total Nulls:    Ratio:  \n",
      "total_rounds              31              0.004   \n",
      "referee                   32              0.004   \n",
      "r_age                     76              0.010   \n",
      "r_reach                   412             0.055   \n",
      "r_stance                  26              0.003   \n",
      "b_age                     190             0.026   \n",
      "b_reach                   888             0.119   \n",
      "b_stance                  68              0.009   \n",
      "age_diff                  213             0.029   \n",
      "reach_diff                1038            0.140   \n"
     ]
    }
   ],
   "source": [
    "# Number of null values in dataset of all fights\n",
    "print(f\"{'Column:':<25} {'Total Nulls:':<15} {'Ratio:':<8}\")\n",
    "print_null_ratios(all_fights)\n"
   ]
  },
  {
   "cell_type": "code",
   "execution_count": 502,
   "id": "63529ce0",
   "metadata": {},
   "outputs": [
    {
     "name": "stdout",
     "output_type": "stream",
     "text": [
      "Column:                   Total Nulls:    Ratio:  \n",
      "name                      1               0.000   \n",
      "wins                      1               0.000   \n",
      "losses                    1               0.000   \n",
      "height                    1               0.000   \n",
      "weight                    1               0.000   \n",
      "reach                     656             0.265   \n",
      "stance                    78              0.031   \n",
      "age                       161             0.065   \n",
      "SLpM                      1               0.000   \n",
      "sig_str_acc               1               0.000   \n",
      "SApM                      1               0.000   \n",
      "str_def                   1               0.000   \n",
      "td_avg                    1               0.000   \n",
      "td_acc                    1               0.000   \n",
      "td_def                    1               0.000   \n",
      "sub_avg                   1               0.000   \n"
     ]
    }
   ],
   "source": [
    "# Number of null values in dataset of all fighters\n",
    "print(f\"{'Column:':<25} {'Total Nulls:':<15} {'Ratio:':<8}\")\n",
    "print_null_ratios(fighter_data)"
   ]
  },
  {
   "cell_type": "code",
   "execution_count": 503,
   "id": "4c7adb47",
   "metadata": {},
   "outputs": [],
   "source": [
    "# Dropping Rows with Null Values\n",
    "def drop_null(df):\n",
    "    for col in df.columns:\n",
    "        rows_to_drop = df[df[col].isnull()].index\n",
    "        df.drop(rows_to_drop, inplace=True)\n",
    "\n",
    "drop_null(all_fights)\n",
    "drop_null(fighter_data)"
   ]
  }
 ],
 "metadata": {
  "kernelspec": {
   "display_name": "env",
   "language": "python",
   "name": "python3"
  },
  "language_info": {
   "codemirror_mode": {
    "name": "ipython",
    "version": 3
   },
   "file_extension": ".py",
   "mimetype": "text/x-python",
   "name": "python",
   "nbconvert_exporter": "python",
   "pygments_lexer": "ipython3",
   "version": "3.11.1"
  }
 },
 "nbformat": 4,
 "nbformat_minor": 5
}
